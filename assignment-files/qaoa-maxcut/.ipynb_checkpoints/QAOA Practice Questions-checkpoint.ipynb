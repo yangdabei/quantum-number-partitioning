{
 "cells": [
  {
   "cell_type": "markdown",
   "id": "4aaf7b48",
   "metadata": {},
   "source": [
    "# QAOA on MaxCut\n",
    "\n",
    "We implement QAOA to approximately solve the MaxCut problem for a given graph."
   ]
  },
  {
   "cell_type": "code",
   "execution_count": 1,
   "id": "d695243d",
   "metadata": {},
   "outputs": [],
   "source": [
    "import networkx as nx\n",
    "import numpy as np\n",
    "import matplotlib.pyplot as plt\n",
    "%matplotlib inline"
   ]
  },
  {
   "cell_type": "markdown",
   "id": "0af962f8",
   "metadata": {},
   "source": [
    "The graph in question is given below:"
   ]
  },
  {
   "cell_type": "code",
   "execution_count": 2,
   "id": "f7ea559d",
   "metadata": {},
   "outputs": [
    {
     "data": {
      "image/png": "[encoded data removed]",
      "text/plain": [
       "<Figure size 432x288 with 1 Axes>"
      ]
     },
     "metadata": {},
     "output_type": "display_data"
    }
   ],
   "source": [
    "G = nx.Graph()\n",
    "G.add_nodes_from(np.arange(0, 5))\n",
    "G.add_edges_from([(0, 1), (1, 3), (1, 2), (1, 5), (5, 2), (2, 4)]) \n",
    "\n",
    "nx.draw(G, with_labels=True, alpha=0.8, node_size=500)"
   ]
  },
  {
   "cell_type": "markdown",
   "id": "b08cf494",
   "metadata": {},
   "source": [
    "#### a) Find the exact max-cut for this graph\n",
    "\n",
    "The exact max-cut for this graph is 5. The three solutions of two disjoint sets with 5 cuts are\n",
    "- $\\{0,3,4,5\\},\\{1,2\\}$\n",
    "- $\\{0,2,3\\},\\{1,4,5\\}$\n",
    "- $\\{0,2,3,5\\},\\{1,4\\}$"
   ]
  },
  {
   "cell_type": "markdown",
   "id": "02d06698",
   "metadata": {},
   "source": [
    "#### b) Goemans-Williamson algorithm to find approximate solution\n",
    "\n",
    "The optimisation problem of MaxCut can be formulated as a quadratic program with binary variables. The classical method using semidefinite programming for solving the MaxCut problem developed by Goemans and Williamson provides an approximate solution with a performance ratio 0.87856 <$\\alpha$< 0.87857. \n",
    "\n",
    "The following code from [this video](https://www.youtube.com/watch?v=aFVnWq3RHYU) this video was implemented to solve the MaxCut problem using the Goemans-Williamson algorithm."
   ]
  },
  {
   "cell_type": "code",
   "execution_count": 3,
   "id": "7e1e918b",
   "metadata": {},
   "outputs": [],
   "source": [
    "import cvxpy as cp\n",
    "from scipy import linalg"
   ]
  },
  {
   "cell_type": "code",
   "execution_count": 4,
   "id": "de24129e",
   "metadata": {},
   "outputs": [],
   "source": [
    "# edges of given graph\n",
    "edges = [(0,1),\n",
    "        (1,2),\n",
    "        (1,3),\n",
    "        (1,5),\n",
    "        (2,4),\n",
    "        (2,5)]\n",
    "\n",
    "# creates 6x6 symmetric matrix optimisation variable\n",
    "X = cp.Variable((6,6), symmetric=True)\n",
    "\n",
    "# creates constraints on X (positive semidefinite & symmetric)\n",
    "constraints = [X>>0]\n",
    "constraints += [\n",
    "    X[i,i] == 1 for i in range (6)\n",
    "]\n",
    "\n",
    "# algorithm: \n",
    "objective = sum(0.5*(1-X[i,j]) for (i,j) in edges)"
   ]
  },
  {
   "cell_type": "code",
   "execution_count": 5,
   "id": "6fa4f326",
   "metadata": {},
   "outputs": [
    {
     "data": {
      "text/plain": [
       "5.250000797097679"
      ]
     },
     "execution_count": 5,
     "metadata": {},
     "output_type": "execute_result"
    }
   ],
   "source": [
    "prob = cp.Problem(cp.Maximize(objective), constraints)\n",
    "prob.solve()"
   ]
  },
  {
   "cell_type": "markdown",
   "id": "68334931",
   "metadata": {},
   "source": [
    "#### c) QAOA with depth $p=1$\n",
    "\n",
    "For a given graph, we have that the objective function is given by\n",
    "    \\begin{align*}\n",
    "        C &= \\sum{\\langle jk\\rangle} C_{\\langle jk\\rangle} \\\\\n",
    "        &= \\sum_{\\langle jk\\rangle} \\frac{1}{2} \\left(1-\\sigma^z_j\\sigma^z_k\\right)\n",
    "    \\end{align*}\n",
    "    \n",
    "for each edge $\\langle jk\\rangle$. Write $Z_i = \\sigma^z_i$. The objective function for this particular graph is\n",
    "\n",
    "$$C = 3-\\frac{1}{2}\\left[Z_0Z_1+Z_1Z_2+Z_1Z_3+Z_1Z_5+Z_2Z_4+Z_2Z_5\\right]$$\n",
    "\n",
    "Define the unitary $U(C,\\gamma)$ as \n",
    "    \\begin{align*}\n",
    "        U(C,\\gamma) &= e^{-i\\gamma C} \\\\\n",
    "        &= \\prod_{\\langle jk\\rangle} e^{-i\\gamma C_{\\langle jk\\rangle}}.\n",
    "    \\end{align*}\n",
    "    \n",
    "The unitary $U(C,\\gamma)$ for this particular graph is\n",
    "\n",
    "$$U(C,\\gamma) = e^{-3i\\gamma}e^{\\frac{i\\gamma}{2}Z_0Z_1}e^{\\frac{i\\gamma}{2}Z_1Z_2}e^{\\frac{i\\gamma}{2}Z_1Z_3}e^{\\frac{i\\gamma}{2}Z_1Z_5}e^{\\frac{i\\gamma}{2}Z_2Z_4}e^{\\frac{i\\gamma}{2}Z_2Z_5}$$\n",
    "\n",
    "Next, define the unitary $U(B,\\beta)$ as\n",
    "\n",
    "$$B = \\sum^n_{j=0} \\sigma^x_j$$\n",
    "\n",
    "for each node $0,\\dots, n$. Write $\\sigma^x_j=X_j$. Then $U(B,\\beta)$ for the graph is\n",
    "\n",
    "$$B = X_0+X_1+X_2+X_3+X_4+X_5$$\n",
    "\n",
    "The next section implements the QAOA circuit. First, we import the necessary packages"
   ]
  },
  {
   "cell_type": "code",
   "execution_count": 6,
   "id": "9db42400",
   "metadata": {},
   "outputs": [],
   "source": [
    "from qiskit import QuantumCircuit, ClassicalRegister, QuantumRegister\n",
    "from qiskit import Aer, execute, assemble\n",
    "from qiskit.visualization import plot_histogram\n",
    "from qiskit.circuit import Parameter\n",
    "from qiskit.visualization import plot_state_city"
   ]
  },
  {
   "cell_type": "markdown",
   "id": "619c3501",
   "metadata": {},
   "source": [
    "We next define a function that creates the quantum circuit from a given graph and parameters $\\beta$ and $\\gamma$."
   ]
  },
  {
   "cell_type": "code",
   "execution_count": 102,
   "id": "17f38e73",
   "metadata": {},
   "outputs": [],
   "source": [
    "def make_circuit(graph, angles):\n",
    "    \"\"\"\n",
    "    Creates quantum circuit for the of wavefunction after applying \n",
    "    the unitaries U(C, \\gamma) and U(B, \\beta).\n",
    "    \n",
    "    INPUT:\n",
    "    - ```G```: networkx graph of problem graph\n",
    "    - ```angles```: array double list of unitary parameters\n",
    "    OUTPUT: QuantumCircuit of problem graph after applying unitaries\n",
    "    \"\"\"\n",
    "    \n",
    "    nqubits = len(graph.nodes())\n",
    "    p = len(angles)//2  # number of alternating unitaries\n",
    "    \n",
    "    beta = angles[:p]\n",
    "    gamma = angles[p:]\n",
    "    \n",
    "    # generates initial state\n",
    "    qc = QuantumCircuit(nqubits)\n",
    "    for i in range(0, nqubits):\n",
    "        qc.h(i)\n",
    "    \n",
    "    for i in range(0,p):\n",
    "    \n",
    "        # generates problem unitary U(C, \\gamma)\n",
    "        for pair in list(graph.edges()):  # pairs of nodes\n",
    "            qc.rzz(2 * gamma[i], pair[0], pair[1])\n",
    "            qc.barrier()\n",
    "\n",
    "        # generates mixing unitary U(B, \\beta)\n",
    "        for j in range(0, nqubits):\n",
    "            qc.rx(2 * beta[i], j)\n",
    "\n",
    "    # generates circuit\n",
    "    #qc.measure_all()\n",
    "\n",
    "    return qc"
   ]
  },
  {
   "cell_type": "code",
   "execution_count": 103,
   "id": "86aef2ac",
   "metadata": {},
   "outputs": [
    {
     "data": {
      "image/png": "[encoded data removed]",
      "text/plain": [
       "<Figure size 1591.6x806.68 with 1 Axes>"
      ]
     },
     "execution_count": 103,
     "metadata": {},
     "output_type": "execute_result"
    }
   ],
   "source": [
    "# circuit for example circuit where beta=pi/2 and gamma=pi/4\n",
    "qc = make_circuit(G, [np.pi/2,np.pi/4])\n",
    "qc.decompose().draw(output='mpl')"
   ]
  },
  {
   "cell_type": "markdown",
   "id": "2988ae85",
   "metadata": {},
   "source": [
    "The next function calculates the cost value for a given cut. We also define a function that creates a histogram of all possible cuts and provides a visualisation of the likelihood for such a cut to occur."
   ]
  },
  {
   "cell_type": "code",
   "execution_count": 104,
   "id": "2e733139",
   "metadata": {},
   "outputs": [],
   "source": [
    "def maxcut_obj(bitstring, graph):\n",
    "    \"\"\"\n",
    "    Given a bitstring as a solution, this function returns\n",
    "    the number of edges shared between the two partitions\n",
    "    of the graph.\n",
    "    \n",
    "    INPUT:\n",
    "    - ```graph``` - networkx graph of problem graph\n",
    "    - ```bitstring``` - int array solution bitstring\n",
    "    OUTPUT: float - cost of graph\n",
    "    \"\"\"\n",
    "    \n",
    "    value = 0\n",
    "    for i, j in graph.edges():\n",
    "        if bitstring[i] != bitstring[j]:\n",
    "            value -= 1\n",
    "            \n",
    "    return value\n",
    "\n",
    "def maxcut_obj_weighted(graph, bitstring):\n",
    "    \"\"\"\n",
    "    Computes the maxcut cost function of a general weighted graph\n",
    "    and cut represented by some bitstring.\n",
    "    \n",
    "    INPUT:\n",
    "    - ```graph```: networkx graph of problem graph\n",
    "    - ```bitstring```: string solution bitstring\n",
    "    OUTPUT: float - cost of graph\n",
    "    \"\"\"\n",
    "    # Get the weight matrix of the graph\n",
    "    weight_matrix = nx.adjacency_matrix(graph).toarray()\n",
    "    size = weight_matrix.shape[0]\n",
    "    value = 0.\n",
    "\n",
    "    for (u,v) in graph.edges():\n",
    "        if bitstring[u]!=bitstring[v]:\n",
    "            value += weight_matrix[u,v]\n",
    "    \n",
    "    return value\n",
    "\n",
    "def compute_expectation(counts, graph):\n",
    "    \"\"\"\n",
    "    Computes expectation value based on measurement results\n",
    "    \n",
    "    INPUT:\n",
    "    - ```counts''': dictionary with key as the bitstring, and val as the count\n",
    "    - ```graph''': networkx graph\n",
    "        \n",
    "    OUTPUT: float - average expectation value for graph\n",
    "    \"\"\"\n",
    "    \n",
    "    avg = 0\n",
    "    sum_count = 0\n",
    "    for bitstring, count in counts.items():\n",
    "        \n",
    "        obj = maxcut_obj(bitstring[::-1], G)\n",
    "        avg += obj * count\n",
    "        sum_count += count\n",
    "        \n",
    "    return avg/sum_count\n",
    "\n",
    "def get_expectation(graph, shots=512):\n",
    "    \"\"\"\n",
    "    Runs parametrised circuit and returns expectation \n",
    "    Creates quantum circuit for the of wavefunction after applying \n",
    "    the unitaries U(C, \\gamma) and U(B, \\beta).\n",
    "    \n",
    "    INPUT:\n",
    "    - ```graph```: networkx graph of problem graph\n",
    "    - ```shots```: array double list of unitary parameters\n",
    "    OUTPUT: expectation value from executing circuit\n",
    "    \"\"\"\n",
    "    backend = Aer.get_backend('qasm_simulator')\n",
    "    backend.shots = shots\n",
    "    \n",
    "    def execute_circ(theta):\n",
    "        \n",
    "        qc = make_circuit(graph, theta)\n",
    "        qc.measure_all()\n",
    "        counts = backend.run(qc, seed_simulator=10, \n",
    "                             nshots=512).result().get_counts()\n",
    "        \n",
    "        return compute_expectation(counts, graph)\n",
    "    \n",
    "    return execute_circ\n",
    "\n",
    "def measure(qc):\n",
    "    \n",
    "    backend = Aer.get_backend('aer_simulator')\n",
    "    qc.save_statevector()\n",
    "    qobj = assemble(qc)\n",
    "    final_state = backend.run(qobj).result().get_statevector()\n",
    "    \n",
    "    return final_state"
   ]
  },
  {
   "cell_type": "code",
   "execution_count": 105,
   "id": "e854d2a9",
   "metadata": {},
   "outputs": [],
   "source": [
    "from typing import List\n",
    "import plotly.graph_objects as go\n",
    "\n",
    "def plot_maxcut_histogram(graph):\n",
    "    \"\"\"\n",
    "    Plots a bar diagram with the values for all possible cuts of a given graph.\n",
    "    INPUT:\n",
    "    - ```graph``` -  networkx graph of problem graph\n",
    "    \"\"\"\n",
    "    num_vars = graph.number_of_nodes()\n",
    "    \n",
    "    # Create list of bitstrings and corresponding cut values\n",
    "    bitstrings = ['{:b}'.format(i).rjust(num_vars, '0')[::-1] for i in range(2**num_vars)]\n",
    "    values = [maxcut_obj_weighted(graph = graph, bitstring = [int(x) for x in bitstring]) for bitstring in bitstrings]\n",
    "    \n",
    "    # Sort both lists by largest cut value\n",
    "    values, bitstrings = zip(*sorted(zip(values, bitstrings)))\n",
    "    \n",
    "    # Plot bar diagram\n",
    "    bar_plot = go.Bar(x = bitstrings, y = values, marker=dict(color=values, colorscale = 'plasma', colorbar=dict(title='Cut Value')))\n",
    "    fig = go.Figure(data=bar_plot, layout = dict(xaxis=dict(type = 'category'), width = 1500, height = 600))\n",
    "    fig.show()"
   ]
  },
  {
   "cell_type": "code",
   "execution_count": 106,
   "id": "88ae411e",
   "metadata": {
    "scrolled": true
   },
   "outputs": [
    {
     "data": {
      "application/vnd.plotly.v1+json": {
       "config": {
        "plotlyServerURL": "https://plot.ly"
       },
       "data": [
        {
         "marker": {
          "color": [
           0,
           0,
           1,
           1,
           1,
           1,
           1,
           1,
           2,
           2,
           2,
           2,
           2,
           2,
           2,
           2,
           2,
           2,
           2,
           2,
           3,
           3,
           3,
           3,
           3,
           3,
           3,
           3,
           3,
           3,
           3,
           3,
           3,
           3,
           3,
           3,
           3,
           3,
           3,
           3,
           4,
           4,
           4,
           4,
           4,
           4,
           4,
           4,
           4,
           4,
           4,
           4,
           4,
           4,
           4,
           4,
           4,
           4,
           5,
           5,
           5,
           5,
           5,
           5
          ],
          "colorbar": {
           "title": {
            "text": "Cut Value"
           }
          },
          "colorscale": [
           [
            0,
            "#0d0887"
           ],
           [
            0.1111111111111111,
            "#46039f"
           ],
           [
            0.2222222222222222,
            "#7201a8"
           ],
           [
            0.3333333333333333,
            "#9c179e"
           ],
           [
            0.4444444444444444,
            "#bd3786"
           ],
           [
            0.5555555555555556,
            "#d8576b"
           ],
           [
            0.6666666666666666,
            "#ed7953"
           ],
           [
            0.7777777777777778,
            "#fb9f3a"
           ],
           [
            0.8888888888888888,
            "#fdca26"
           ],
           [
            1,
            "#f0f921"
           ]
          ]
         },
         "type": "bar",
         "x": [
          "000000",
          "111111",
          "000010",
          "000100",
          "011111",
          "100000",
          "111011",
          "111101",
          "000001",
          "000110",
          "001010",
          "001011",
          "011011",
          "011101",
          "100010",
          "100100",
          "110100",
          "110101",
          "111001",
          "111110",
          "000011",
          "000101",
          "001000",
          "001001",
          "001110",
          "001111",
          "010100",
          "010101",
          "011001",
          "011110",
          "100001",
          "100110",
          "101010",
          "101011",
          "110000",
          "110001",
          "110110",
          "110111",
          "111010",
          "111100",
          "000111",
          "001100",
          "001101",
          "010000",
          "010001",
          "010110",
          "010111",
          "011010",
          "011100",
          "100011",
          "100101",
          "101000",
          "101001",
          "101110",
          "101111",
          "110010",
          "110011",
          "111000",
          "010010",
          "010011",
          "011000",
          "100111",
          "101100",
          "101101"
         ],
         "y": [
          0,
          0,
          1,
          1,
          1,
          1,
          1,
          1,
          2,
          2,
          2,
          2,
          2,
          2,
          2,
          2,
          2,
          2,
          2,
          2,
          3,
          3,
          3,
          3,
          3,
          3,
          3,
          3,
          3,
          3,
          3,
          3,
          3,
          3,
          3,
          3,
          3,
          3,
          3,
          3,
          4,
          4,
          4,
          4,
          4,
          4,
          4,
          4,
          4,
          4,
          4,
          4,
          4,
          4,
          4,
          4,
          4,
          4,
          5,
          5,
          5,
          5,
          5,
          5
         ]
        }
       ],
       "layout": {
        "height": 600,
        "template": {
         "data": {
          "bar": [
           {
            "error_x": {
             "color": "#2a3f5f"
            },
            "error_y": {
             "color": "#2a3f5f"
            },
            "marker": {
             "line": {
              "color": "#E5ECF6",
              "width": 0.5
             },
             "pattern": {
              "fillmode": "overlay",
              "size": 10,
              "solidity": 0.2
             }
            },
            "type": "bar"
           }
          ],
          "barpolar": [
           {
            "marker": {
             "line": {
              "color": "#E5ECF6",
              "width": 0.5
             },
             "pattern": {
              "fillmode": "overlay",
              "size": 10,
              "solidity": 0.2
             }
            },
            "type": "barpolar"
           }
          ],
          "carpet": [
           {
            "aaxis": {
             "endlinecolor": "#2a3f5f",
             "gridcolor": "white",
             "linecolor": "white",
             "minorgridcolor": "white",
             "startlinecolor": "#2a3f5f"
            },
            "baxis": {
             "endlinecolor": "#2a3f5f",
             "gridcolor": "white",
             "linecolor": "white",
             "minorgridcolor": "white",
             "startlinecolor": "#2a3f5f"
            },
            "type": "carpet"
           }
          ],
          "choropleth": [
           {
            "colorbar": {
             "outlinewidth": 0,
             "ticks": ""
            },
            "type": "choropleth"
           }
          ],
          "contour": [
           {
            "colorbar": {
             "outlinewidth": 0,
             "ticks": ""
            },
            "colorscale": [
             [
              0,
              "#0d0887"
             ],
             [
              0.1111111111111111,
              "#46039f"
             ],
             [
              0.2222222222222222,
              "#7201a8"
             ],
             [
              0.3333333333333333,
              "#9c179e"
             ],
             [
              0.4444444444444444,
              "#bd3786"
             ],
             [
              0.5555555555555556,
              "#d8576b"
             ],
             [
              0.6666666666666666,
              "#ed7953"
             ],
             [
              0.7777777777777778,
              "#fb9f3a"
             ],
             [
              0.8888888888888888,
              "#fdca26"
             ],
             [
              1,
              "#f0f921"
             ]
            ],
            "type": "contour"
           }
          ],
          "contourcarpet": [
           {
            "colorbar": {
             "outlinewidth": 0,
             "ticks": ""
            },
            "type": "contourcarpet"
           }
          ],
          "heatmap": [
           {
            "colorbar": {
             "outlinewidth": 0,
             "ticks": ""
            },
            "colorscale": [
             [
              0,
              "#0d0887"
             ],
             [
              0.1111111111111111,
              "#46039f"
             ],
             [
              0.2222222222222222,
              "#7201a8"
             ],
             [
              0.3333333333333333,
              "#9c179e"
             ],
             [
              0.4444444444444444,
              "#bd3786"
             ],
             [
              0.5555555555555556,
              "#d8576b"
             ],
             [
              0.6666666666666666,
              "#ed7953"
             ],
             [
              0.7777777777777778,
              "#fb9f3a"
             ],
             [
              0.8888888888888888,
              "#fdca26"
             ],
             [
              1,
              "#f0f921"
             ]
            ],
            "type": "heatmap"
           }
          ],
          "heatmapgl": [
           {
            "colorbar": {
             "outlinewidth": 0,
             "ticks": ""
            },
            "colorscale": [
             [
              0,
              "#0d0887"
             ],
             [
              0.1111111111111111,
              "#46039f"
             ],
             [
              0.2222222222222222,
              "#7201a8"
             ],
             [
              0.3333333333333333,
              "#9c179e"
             ],
             [
              0.4444444444444444,
              "#bd3786"
             ],
             [
              0.5555555555555556,
              "#d8576b"
             ],
             [
              0.6666666666666666,
              "#ed7953"
             ],
             [
              0.7777777777777778,
              "#fb9f3a"
             ],
             [
              0.8888888888888888,
              "#fdca26"
             ],
             [
              1,
              "#f0f921"
             ]
            ],
            "type": "heatmapgl"
           }
          ],
          "histogram": [
           {
            "marker": {
             "pattern": {
              "fillmode": "overlay",
              "size": 10,
              "solidity": 0.2
             }
            },
            "type": "histogram"
           }
          ],
          "histogram2d": [
           {
            "colorbar": {
             "outlinewidth": 0,
             "ticks": ""
            },
            "colorscale": [
             [
              0,
              "#0d0887"
             ],
             [
              0.1111111111111111,
              "#46039f"
             ],
             [
              0.2222222222222222,
              "#7201a8"
             ],
             [
              0.3333333333333333,
              "#9c179e"
             ],
             [
              0.4444444444444444,
              "#bd3786"
             ],
             [
              0.5555555555555556,
              "#d8576b"
             ],
             [
              0.6666666666666666,
              "#ed7953"
             ],
             [
              0.7777777777777778,
              "#fb9f3a"
             ],
             [
              0.8888888888888888,
              "#fdca26"
             ],
             [
              1,
              "#f0f921"
             ]
            ],
            "type": "histogram2d"
           }
          ],
          "histogram2dcontour": [
           {
            "colorbar": {
             "outlinewidth": 0,
             "ticks": ""
            },
            "colorscale": [
             [
              0,
              "#0d0887"
             ],
             [
              0.1111111111111111,
              "#46039f"
             ],
             [
              0.2222222222222222,
              "#7201a8"
             ],
             [
              0.3333333333333333,
              "#9c179e"
             ],
             [
              0.4444444444444444,
              "#bd3786"
             ],
             [
              0.5555555555555556,
              "#d8576b"
             ],
             [
              0.6666666666666666,
              "#ed7953"
             ],
             [
              0.7777777777777778,
              "#fb9f3a"
             ],
             [
              0.8888888888888888,
              "#fdca26"
             ],
             [
              1,
              "#f0f921"
             ]
            ],
            "type": "histogram2dcontour"
           }
          ],
          "mesh3d": [
           {
            "colorbar": {
             "outlinewidth": 0,
             "ticks": ""
            },
            "type": "mesh3d"
           }
          ],
          "parcoords": [
           {
            "line": {
             "colorbar": {
              "outlinewidth": 0,
              "ticks": ""
             }
            },
            "type": "parcoords"
           }
          ],
          "pie": [
           {
            "automargin": true,
            "type": "pie"
           }
          ],
          "scatter": [
           {
            "fillpattern": {
             "fillmode": "overlay",
             "size": 10,
             "solidity": 0.2
            },
            "type": "scatter"
           }
          ],
          "scatter3d": [
           {
            "line": {
             "colorbar": {
              "outlinewidth": 0,
              "ticks": ""
             }
            },
            "marker": {
             "colorbar": {
              "outlinewidth": 0,
              "ticks": ""
             }
            },
            "type": "scatter3d"
           }
          ],
          "scattercarpet": [
           {
            "marker": {
             "colorbar": {
              "outlinewidth": 0,
              "ticks": ""
             }
            },
            "type": "scattercarpet"
           }
          ],
          "scattergeo": [
           {
            "marker": {
             "colorbar": {
              "outlinewidth": 0,
              "ticks": ""
             }
            },
            "type": "scattergeo"
           }
          ],
          "scattergl": [
           {
            "marker": {
             "colorbar": {
              "outlinewidth": 0,
              "ticks": ""
             }
            },
            "type": "scattergl"
           }
          ],
          "scattermapbox": [
           {
            "marker": {
             "colorbar": {
              "outlinewidth": 0,
              "ticks": ""
             }
            },
            "type": "scattermapbox"
           }
          ],
          "scatterpolar": [
           {
            "marker": {
             "colorbar": {
              "outlinewidth": 0,
              "ticks": ""
             }
            },
            "type": "scatterpolar"
           }
          ],
          "scatterpolargl": [
           {
            "marker": {
             "colorbar": {
              "outlinewidth": 0,
              "ticks": ""
             }
            },
            "type": "scatterpolargl"
           }
          ],
          "scatterternary": [
           {
            "marker": {
             "colorbar": {
              "outlinewidth": 0,
              "ticks": ""
             }
            },
            "type": "scatterternary"
           }
          ],
          "surface": [
           {
            "colorbar": {
             "outlinewidth": 0,
             "ticks": ""
            },
            "colorscale": [
             [
              0,
              "#0d0887"
             ],
             [
              0.1111111111111111,
              "#46039f"
             ],
             [
              0.2222222222222222,
              "#7201a8"
             ],
             [
              0.3333333333333333,
              "#9c179e"
             ],
             [
              0.4444444444444444,
              "#bd3786"
             ],
             [
              0.5555555555555556,
              "#d8576b"
             ],
             [
              0.6666666666666666,
              "#ed7953"
             ],
             [
              0.7777777777777778,
              "#fb9f3a"
             ],
             [
              0.8888888888888888,
              "#fdca26"
             ],
             [
              1,
              "#f0f921"
             ]
            ],
            "type": "surface"
           }
          ],
          "table": [
           {
            "cells": {
             "fill": {
              "color": "#EBF0F8"
             },
             "line": {
              "color": "white"
             }
            },
            "header": {
             "fill": {
              "color": "#C8D4E3"
             },
             "line": {
              "color": "white"
             }
            },
            "type": "table"
           }
          ]
         },
         "layout": {
          "annotationdefaults": {
           "arrowcolor": "#2a3f5f",
           "arrowhead": 0,
           "arrowwidth": 1
          },
          "autotypenumbers": "strict",
          "coloraxis": {
           "colorbar": {
            "outlinewidth": 0,
            "ticks": ""
           }
          },
          "colorscale": {
           "diverging": [
            [
             0,
             "#8e0152"
            ],
            [
             0.1,
             "#c51b7d"
            ],
            [
             0.2,
             "#de77ae"
            ],
            [
             0.3,
             "#f1b6da"
            ],
            [
             0.4,
             "#fde0ef"
            ],
            [
             0.5,
             "#f7f7f7"
            ],
            [
             0.6,
             "#e6f5d0"
            ],
            [
             0.7,
             "#b8e186"
            ],
            [
             0.8,
             "#7fbc41"
            ],
            [
             0.9,
             "#4d9221"
            ],
            [
             1,
             "#276419"
            ]
           ],
           "sequential": [
            [
             0,
             "#0d0887"
            ],
            [
             0.1111111111111111,
             "#46039f"
            ],
            [
             0.2222222222222222,
             "#7201a8"
            ],
            [
             0.3333333333333333,
             "#9c179e"
            ],
            [
             0.4444444444444444,
             "#bd3786"
            ],
            [
             0.5555555555555556,
             "#d8576b"
            ],
            [
             0.6666666666666666,
             "#ed7953"
            ],
            [
             0.7777777777777778,
             "#fb9f3a"
            ],
            [
             0.8888888888888888,
             "#fdca26"
            ],
            [
             1,
             "#f0f921"
            ]
           ],
           "sequentialminus": [
            [
             0,
             "#0d0887"
            ],
            [
             0.1111111111111111,
             "#46039f"
            ],
            [
             0.2222222222222222,
             "#7201a8"
            ],
            [
             0.3333333333333333,
             "#9c179e"
            ],
            [
             0.4444444444444444,
             "#bd3786"
            ],
            [
             0.5555555555555556,
             "#d8576b"
            ],
            [
             0.6666666666666666,
             "#ed7953"
            ],
            [
             0.7777777777777778,
             "#fb9f3a"
            ],
            [
             0.8888888888888888,
             "#fdca26"
            ],
            [
             1,
             "#f0f921"
            ]
           ]
          },
          "colorway": [
           "#636efa",
           "#EF553B",
           "#00cc96",
           "#ab63fa",
           "#FFA15A",
           "#19d3f3",
           "#FF6692",
           "#B6E880",
           "#FF97FF",
           "#FECB52"
          ],
          "font": {
           "color": "#2a3f5f"
          },
          "geo": {
           "bgcolor": "white",
           "lakecolor": "white",
           "landcolor": "#E5ECF6",
           "showlakes": true,
           "showland": true,
           "subunitcolor": "white"
          },
          "hoverlabel": {
           "align": "left"
          },
          "hovermode": "closest",
          "mapbox": {
           "style": "light"
          },
          "paper_bgcolor": "white",
          "plot_bgcolor": "#E5ECF6",
          "polar": {
           "angularaxis": {
            "gridcolor": "white",
            "linecolor": "white",
            "ticks": ""
           },
           "bgcolor": "#E5ECF6",
           "radialaxis": {
            "gridcolor": "white",
            "linecolor": "white",
            "ticks": ""
           }
          },
          "scene": {
           "xaxis": {
            "backgroundcolor": "#E5ECF6",
            "gridcolor": "white",
            "gridwidth": 2,
            "linecolor": "white",
            "showbackground": true,
            "ticks": "",
            "zerolinecolor": "white"
           },
           "yaxis": {
            "backgroundcolor": "#E5ECF6",
            "gridcolor": "white",
            "gridwidth": 2,
            "linecolor": "white",
            "showbackground": true,
            "ticks": "",
            "zerolinecolor": "white"
           },
           "zaxis": {
            "backgroundcolor": "#E5ECF6",
            "gridcolor": "white",
            "gridwidth": 2,
            "linecolor": "white",
            "showbackground": true,
            "ticks": "",
            "zerolinecolor": "white"
           }
          },
          "shapedefaults": {
           "line": {
            "color": "#2a3f5f"
           }
          },
          "ternary": {
           "aaxis": {
            "gridcolor": "white",
            "linecolor": "white",
            "ticks": ""
           },
           "baxis": {
            "gridcolor": "white",
            "linecolor": "white",
            "ticks": ""
           },
           "bgcolor": "#E5ECF6",
           "caxis": {
            "gridcolor": "white",
            "linecolor": "white",
            "ticks": ""
           }
          },
          "title": {
           "x": 0.05
          },
          "xaxis": {
           "automargin": true,
           "gridcolor": "white",
           "linecolor": "white",
           "ticks": "",
           "title": {
            "standoff": 15
           },
           "zerolinecolor": "white",
           "zerolinewidth": 2
          },
          "yaxis": {
           "automargin": true,
           "gridcolor": "white",
           "linecolor": "white",
           "ticks": "",
           "title": {
            "standoff": 15
           },
           "zerolinecolor": "white",
           "zerolinewidth": 2
          }
         }
        },
        "width": 1500,
        "xaxis": {
         "type": "category"
        }
       }
      },
      "text/html": [
       "<div>                            <div id=\"4a35e447-6604-429c-af4d-743b5f743a79\" class=\"plotly-graph-div\" style=\"height:600px; width:1500px;\"></div>            <script type=\"text/javascript\">                require([\"plotly\"], function(Plotly) {                    window.PLOTLYENV=window.PLOTLYENV || {};                                    if (document.getElementById(\"4a35e447-6604-429c-af4d-743b5f743a79\")) {                    Plotly.newPlot(                        \"4a35e447-6604-429c-af4d-743b5f743a79\",                        [{\"marker\":{\"color\":[0.0,0.0,1.0,1.0,1.0,1.0,1.0,1.0,2.0,2.0,2.0,2.0,2.0,2.0,2.0,2.0,2.0,2.0,2.0,2.0,3.0,3.0,3.0,3.0,3.0,3.0,3.0,3.0,3.0,3.0,3.0,3.0,3.0,3.0,3.0,3.0,3.0,3.0,3.0,3.0,4.0,4.0,4.0,4.0,4.0,4.0,4.0,4.0,4.0,4.0,4.0,4.0,4.0,4.0,4.0,4.0,4.0,4.0,5.0,5.0,5.0,5.0,5.0,5.0],\"colorbar\":{\"title\":{\"text\":\"Cut Value\"}},\"colorscale\":[[0.0,\"#0d0887\"],[0.1111111111111111,\"#46039f\"],[0.2222222222222222,\"#7201a8\"],[0.3333333333333333,\"#9c179e\"],[0.4444444444444444,\"#bd3786\"],[0.5555555555555556,\"#d8576b\"],[0.6666666666666666,\"#ed7953\"],[0.7777777777777778,\"#fb9f3a\"],[0.8888888888888888,\"#fdca26\"],[1.0,\"#f0f921\"]]},\"x\":[\"000000\",\"111111\",\"000010\",\"000100\",\"011111\",\"100000\",\"111011\",\"111101\",\"000001\",\"000110\",\"001010\",\"001011\",\"011011\",\"011101\",\"100010\",\"100100\",\"110100\",\"110101\",\"111001\",\"111110\",\"000011\",\"000101\",\"001000\",\"001001\",\"001110\",\"001111\",\"010100\",\"010101\",\"011001\",\"011110\",\"100001\",\"100110\",\"101010\",\"101011\",\"110000\",\"110001\",\"110110\",\"110111\",\"111010\",\"111100\",\"000111\",\"001100\",\"001101\",\"010000\",\"010001\",\"010110\",\"010111\",\"011010\",\"011100\",\"100011\",\"100101\",\"101000\",\"101001\",\"101110\",\"101111\",\"110010\",\"110011\",\"111000\",\"010010\",\"010011\",\"011000\",\"100111\",\"101100\",\"101101\"],\"y\":[0.0,0.0,1.0,1.0,1.0,1.0,1.0,1.0,2.0,2.0,2.0,2.0,2.0,2.0,2.0,2.0,2.0,2.0,2.0,2.0,3.0,3.0,3.0,3.0,3.0,3.0,3.0,3.0,3.0,3.0,3.0,3.0,3.0,3.0,3.0,3.0,3.0,3.0,3.0,3.0,4.0,4.0,4.0,4.0,4.0,4.0,4.0,4.0,4.0,4.0,4.0,4.0,4.0,4.0,4.0,4.0,4.0,4.0,5.0,5.0,5.0,5.0,5.0,5.0],\"type\":\"bar\"}],                        {\"height\":600,\"width\":1500,\"xaxis\":{\"type\":\"category\"},\"template\":{\"data\":{\"histogram2dcontour\":[{\"type\":\"histogram2dcontour\",\"colorbar\":{\"outlinewidth\":0,\"ticks\":\"\"},\"colorscale\":[[0.0,\"#0d0887\"],[0.1111111111111111,\"#46039f\"],[0.2222222222222222,\"#7201a8\"],[0.3333333333333333,\"#9c179e\"],[0.4444444444444444,\"#bd3786\"],[0.5555555555555556,\"#d8576b\"],[0.6666666666666666,\"#ed7953\"],[0.7777777777777778,\"#fb9f3a\"],[0.8888888888888888,\"#fdca26\"],[1.0,\"#f0f921\"]]}],\"choropleth\":[{\"type\":\"choropleth\",\"colorbar\":{\"outlinewidth\":0,\"ticks\":\"\"}}],\"histogram2d\":[{\"type\":\"histogram2d\",\"colorbar\":{\"outlinewidth\":0,\"ticks\":\"\"},\"colorscale\":[[0.0,\"#0d0887\"],[0.1111111111111111,\"#46039f\"],[0.2222222222222222,\"#7201a8\"],[0.3333333333333333,\"#9c179e\"],[0.4444444444444444,\"#bd3786\"],[0.5555555555555556,\"#d8576b\"],[0.6666666666666666,\"#ed7953\"],[0.7777777777777778,\"#fb9f3a\"],[0.8888888888888888,\"#fdca26\"],[1.0,\"#f0f921\"]]}],\"heatmap\":[{\"type\":\"heatmap\",\"colorbar\":{\"outlinewidth\":0,\"ticks\":\"\"},\"colorscale\":[[0.0,\"#0d0887\"],[0.1111111111111111,\"#46039f\"],[0.2222222222222222,\"#7201a8\"],[0.3333333333333333,\"#9c179e\"],[0.4444444444444444,\"#bd3786\"],[0.5555555555555556,\"#d8576b\"],[0.6666666666666666,\"#ed7953\"],[0.7777777777777778,\"#fb9f3a\"],[0.8888888888888888,\"#fdca26\"],[1.0,\"#f0f921\"]]}],\"heatmapgl\":[{\"type\":\"heatmapgl\",\"colorbar\":{\"outlinewidth\":0,\"ticks\":\"\"},\"colorscale\":[[0.0,\"#0d0887\"],[0.1111111111111111,\"#46039f\"],[0.2222222222222222,\"#7201a8\"],[0.3333333333333333,\"#9c179e\"],[0.4444444444444444,\"#bd3786\"],[0.5555555555555556,\"#d8576b\"],[0.6666666666666666,\"#ed7953\"],[0.7777777777777778,\"#fb9f3a\"],[0.8888888888888888,\"#fdca26\"],[1.0,\"#f0f921\"]]}],\"contourcarpet\":[{\"type\":\"contourcarpet\",\"colorbar\":{\"outlinewidth\":0,\"ticks\":\"\"}}],\"contour\":[{\"type\":\"contour\",\"colorbar\":{\"outlinewidth\":0,\"ticks\":\"\"},\"colorscale\":[[0.0,\"#0d0887\"],[0.1111111111111111,\"#46039f\"],[0.2222222222222222,\"#7201a8\"],[0.3333333333333333,\"#9c179e\"],[0.4444444444444444,\"#bd3786\"],[0.5555555555555556,\"#d8576b\"],[0.6666666666666666,\"#ed7953\"],[0.7777777777777778,\"#fb9f3a\"],[0.8888888888888888,\"#fdca26\"],[1.0,\"#f0f921\"]]}],\"surface\":[{\"type\":\"surface\",\"colorbar\":{\"outlinewidth\":0,\"ticks\":\"\"},\"colorscale\":[[0.0,\"#0d0887\"],[0.1111111111111111,\"#46039f\"],[0.2222222222222222,\"#7201a8\"],[0.3333333333333333,\"#9c179e\"],[0.4444444444444444,\"#bd3786\"],[0.5555555555555556,\"#d8576b\"],[0.6666666666666666,\"#ed7953\"],[0.7777777777777778,\"#fb9f3a\"],[0.8888888888888888,\"#fdca26\"],[1.0,\"#f0f921\"]]}],\"mesh3d\":[{\"type\":\"mesh3d\",\"colorbar\":{\"outlinewidth\":0,\"ticks\":\"\"}}],\"scatter\":[{\"fillpattern\":{\"fillmode\":\"overlay\",\"size\":10,\"solidity\":0.2},\"type\":\"scatter\"}],\"parcoords\":[{\"type\":\"parcoords\",\"line\":{\"colorbar\":{\"outlinewidth\":0,\"ticks\":\"\"}}}],\"scatterpolargl\":[{\"type\":\"scatterpolargl\",\"marker\":{\"colorbar\":{\"outlinewidth\":0,\"ticks\":\"\"}}}],\"bar\":[{\"error_x\":{\"color\":\"#2a3f5f\"},\"error_y\":{\"color\":\"#2a3f5f\"},\"marker\":{\"line\":{\"color\":\"#E5ECF6\",\"width\":0.5},\"pattern\":{\"fillmode\":\"overlay\",\"size\":10,\"solidity\":0.2}},\"type\":\"bar\"}],\"scattergeo\":[{\"type\":\"scattergeo\",\"marker\":{\"colorbar\":{\"outlinewidth\":0,\"ticks\":\"\"}}}],\"scatterpolar\":[{\"type\":\"scatterpolar\",\"marker\":{\"colorbar\":{\"outlinewidth\":0,\"ticks\":\"\"}}}],\"histogram\":[{\"marker\":{\"pattern\":{\"fillmode\":\"overlay\",\"size\":10,\"solidity\":0.2}},\"type\":\"histogram\"}],\"scattergl\":[{\"type\":\"scattergl\",\"marker\":{\"colorbar\":{\"outlinewidth\":0,\"ticks\":\"\"}}}],\"scatter3d\":[{\"type\":\"scatter3d\",\"line\":{\"colorbar\":{\"outlinewidth\":0,\"ticks\":\"\"}},\"marker\":{\"colorbar\":{\"outlinewidth\":0,\"ticks\":\"\"}}}],\"scattermapbox\":[{\"type\":\"scattermapbox\",\"marker\":{\"colorbar\":{\"outlinewidth\":0,\"ticks\":\"\"}}}],\"scatterternary\":[{\"type\":\"scatterternary\",\"marker\":{\"colorbar\":{\"outlinewidth\":0,\"ticks\":\"\"}}}],\"scattercarpet\":[{\"type\":\"scattercarpet\",\"marker\":{\"colorbar\":{\"outlinewidth\":0,\"ticks\":\"\"}}}],\"carpet\":[{\"aaxis\":{\"endlinecolor\":\"#2a3f5f\",\"gridcolor\":\"white\",\"linecolor\":\"white\",\"minorgridcolor\":\"white\",\"startlinecolor\":\"#2a3f5f\"},\"baxis\":{\"endlinecolor\":\"#2a3f5f\",\"gridcolor\":\"white\",\"linecolor\":\"white\",\"minorgridcolor\":\"white\",\"startlinecolor\":\"#2a3f5f\"},\"type\":\"carpet\"}],\"table\":[{\"cells\":{\"fill\":{\"color\":\"#EBF0F8\"},\"line\":{\"color\":\"white\"}},\"header\":{\"fill\":{\"color\":\"#C8D4E3\"},\"line\":{\"color\":\"white\"}},\"type\":\"table\"}],\"barpolar\":[{\"marker\":{\"line\":{\"color\":\"#E5ECF6\",\"width\":0.5},\"pattern\":{\"fillmode\":\"overlay\",\"size\":10,\"solidity\":0.2}},\"type\":\"barpolar\"}],\"pie\":[{\"automargin\":true,\"type\":\"pie\"}]},\"layout\":{\"autotypenumbers\":\"strict\",\"colorway\":[\"#636efa\",\"#EF553B\",\"#00cc96\",\"#ab63fa\",\"#FFA15A\",\"#19d3f3\",\"#FF6692\",\"#B6E880\",\"#FF97FF\",\"#FECB52\"],\"font\":{\"color\":\"#2a3f5f\"},\"hovermode\":\"closest\",\"hoverlabel\":{\"align\":\"left\"},\"paper_bgcolor\":\"white\",\"plot_bgcolor\":\"#E5ECF6\",\"polar\":{\"bgcolor\":\"#E5ECF6\",\"angularaxis\":{\"gridcolor\":\"white\",\"linecolor\":\"white\",\"ticks\":\"\"},\"radialaxis\":{\"gridcolor\":\"white\",\"linecolor\":\"white\",\"ticks\":\"\"}},\"ternary\":{\"bgcolor\":\"#E5ECF6\",\"aaxis\":{\"gridcolor\":\"white\",\"linecolor\":\"white\",\"ticks\":\"\"},\"baxis\":{\"gridcolor\":\"white\",\"linecolor\":\"white\",\"ticks\":\"\"},\"caxis\":{\"gridcolor\":\"white\",\"linecolor\":\"white\",\"ticks\":\"\"}},\"coloraxis\":{\"colorbar\":{\"outlinewidth\":0,\"ticks\":\"\"}},\"colorscale\":{\"sequential\":[[0.0,\"#0d0887\"],[0.1111111111111111,\"#46039f\"],[0.2222222222222222,\"#7201a8\"],[0.3333333333333333,\"#9c179e\"],[0.4444444444444444,\"#bd3786\"],[0.5555555555555556,\"#d8576b\"],[0.6666666666666666,\"#ed7953\"],[0.7777777777777778,\"#fb9f3a\"],[0.8888888888888888,\"#fdca26\"],[1.0,\"#f0f921\"]],\"sequentialminus\":[[0.0,\"#0d0887\"],[0.1111111111111111,\"#46039f\"],[0.2222222222222222,\"#7201a8\"],[0.3333333333333333,\"#9c179e\"],[0.4444444444444444,\"#bd3786\"],[0.5555555555555556,\"#d8576b\"],[0.6666666666666666,\"#ed7953\"],[0.7777777777777778,\"#fb9f3a\"],[0.8888888888888888,\"#fdca26\"],[1.0,\"#f0f921\"]],\"diverging\":[[0,\"#8e0152\"],[0.1,\"#c51b7d\"],[0.2,\"#de77ae\"],[0.3,\"#f1b6da\"],[0.4,\"#fde0ef\"],[0.5,\"#f7f7f7\"],[0.6,\"#e6f5d0\"],[0.7,\"#b8e186\"],[0.8,\"#7fbc41\"],[0.9,\"#4d9221\"],[1,\"#276419\"]]},\"xaxis\":{\"gridcolor\":\"white\",\"linecolor\":\"white\",\"ticks\":\"\",\"title\":{\"standoff\":15},\"zerolinecolor\":\"white\",\"automargin\":true,\"zerolinewidth\":2},\"yaxis\":{\"gridcolor\":\"white\",\"linecolor\":\"white\",\"ticks\":\"\",\"title\":{\"standoff\":15},\"zerolinecolor\":\"white\",\"automargin\":true,\"zerolinewidth\":2},\"scene\":{\"xaxis\":{\"backgroundcolor\":\"#E5ECF6\",\"gridcolor\":\"white\",\"linecolor\":\"white\",\"showbackground\":true,\"ticks\":\"\",\"zerolinecolor\":\"white\",\"gridwidth\":2},\"yaxis\":{\"backgroundcolor\":\"#E5ECF6\",\"gridcolor\":\"white\",\"linecolor\":\"white\",\"showbackground\":true,\"ticks\":\"\",\"zerolinecolor\":\"white\",\"gridwidth\":2},\"zaxis\":{\"backgroundcolor\":\"#E5ECF6\",\"gridcolor\":\"white\",\"linecolor\":\"white\",\"showbackground\":true,\"ticks\":\"\",\"zerolinecolor\":\"white\",\"gridwidth\":2}},\"shapedefaults\":{\"line\":{\"color\":\"#2a3f5f\"}},\"annotationdefaults\":{\"arrowcolor\":\"#2a3f5f\",\"arrowhead\":0,\"arrowwidth\":1},\"geo\":{\"bgcolor\":\"white\",\"landcolor\":\"#E5ECF6\",\"subunitcolor\":\"white\",\"showland\":true,\"showlakes\":true,\"lakecolor\":\"white\"},\"title\":{\"x\":0.05},\"mapbox\":{\"style\":\"light\"}}}},                        {\"responsive\": true}                    ).then(function(){\n",
       "                            \n",
       "var gd = document.getElementById('4a35e447-6604-429c-af4d-743b5f743a79');\n",
       "var x = new MutationObserver(function (mutations, observer) {{\n",
       "        var display = window.getComputedStyle(gd).display;\n",
       "        if (!display || display === 'none') {{\n",
       "            console.log([gd, 'removed!']);\n",
       "            Plotly.purge(gd);\n",
       "            observer.disconnect();\n",
       "        }}\n",
       "}});\n",
       "\n",
       "// Listen for the removal of the full notebook cells\n",
       "var notebookContainer = gd.closest('#notebook-container');\n",
       "if (notebookContainer) {{\n",
       "    x.observe(notebookContainer, {childList: true});\n",
       "}}\n",
       "\n",
       "// Listen for the clearing of the current output cell\n",
       "var outputEl = gd.closest('.output');\n",
       "if (outputEl) {{\n",
       "    x.observe(outputEl, {childList: true});\n",
       "}}\n",
       "\n",
       "                        })                };                });            </script>        </div>"
      ]
     },
     "metadata": {},
     "output_type": "display_data"
    }
   ],
   "source": [
    "plot_maxcut_histogram(G)"
   ]
  },
  {
   "cell_type": "markdown",
   "id": "fe870555",
   "metadata": {},
   "source": [
    "Since $p$ is small and there are only two parameters, $\\beta$ and $\\gamma$, a simple grid search can be performed \n",
    "\n",
    "https://qiskit.org/textbook/ch-applications/qaoa.html#3.-Approximate-optimization-algorithms-"
   ]
  },
  {
   "cell_type": "code",
   "execution_count": 107,
   "id": "1881187d",
   "metadata": {},
   "outputs": [
    {
     "name": "stdout",
     "output_type": "stream",
     "text": [
      "The angles that maximises the expectation value of the cost is given by: \n",
      "β = 1.2486988411424915, and \n",
      "γ = 0.3339342876366491.\n"
     ]
    }
   ],
   "source": [
    "from scipy.optimize import minimize\n",
    "\n",
    "expectation = get_expectation(G)\n",
    "\n",
    "res = minimize(expectation, \n",
    "                      [1.0, 1.0], \n",
    "                      method='COBYLA')\n",
    "print(f\"The angles that maximises the expectation value of the cost is given by: \\n\\\n",
    "\\u03B2 = {res.x[0]}, and \\n\\\n",
    "\\u03B3 = {res.x[1]}.\")\n"
   ]
  },
  {
   "cell_type": "code",
   "execution_count": 110,
   "id": "6c886758",
   "metadata": {},
   "outputs": [
    {
     "data": {
      "image/png": "[encoded data removed]",
      "text/plain": [
       "<Figure size 1152x360 with 1 Axes>"
      ]
     },
     "execution_count": 110,
     "metadata": {},
     "output_type": "execute_result"
    }
   ],
   "source": [
    "from qiskit.visualization import plot_histogram\n",
    "\n",
    "backend = Aer.get_backend('aer_simulator')\n",
    "backend.shots = 512\n",
    "\n",
    "qc_res = make_circuit(G, res.x)\n",
    "qc_res.measure_all()\n",
    "\n",
    "counts = backend.run(qc_res, seed_simulator=10).result().get_counts()\n",
    "\n",
    "plot_histogram(counts, figsize = (16,5))"
   ]
  },
  {
   "cell_type": "code",
   "execution_count": 111,
   "id": "5d992a9b",
   "metadata": {},
   "outputs": [],
   "source": [
    "qc_opt = make_circuit(G, res.x)\n",
    "sv_opt = measure(qc_opt)"
   ]
  },
  {
   "cell_type": "code",
   "execution_count": 112,
   "id": "a0a18b83",
   "metadata": {},
   "outputs": [
    {
     "data": {
      "image/png": "[encoded data removed]",
      "text/plain": [
       "<Figure size 432x288 with 1 Axes>"
      ]
     },
     "metadata": {
      "needs_background": "light"
     },
     "output_type": "display_data"
    }
   ],
   "source": [
    "prob_vec_opt = np.abs(sv_opt)**2\n",
    "plt.bar(np.arange(64), prob_vec_opt)\n",
    "plt.ylabel(\"Probability\")\n",
    "plt.xlabel(\"Configuration Index\")\n",
    "plt.show()"
   ]
  },
  {
   "cell_type": "code",
   "execution_count": 114,
   "id": "5d5d4b7b",
   "metadata": {},
   "outputs": [],
   "source": [
    "def tensor_power(vect, power):\n",
    "    \"\"\"\n",
    "    Raises a vector to the n-th tensor product.\n",
    "    \n",
    "    INPUT:\n",
    "    ```vect``` - array vector\n",
    "    ```power``` - int power \n",
    "    OUTPUT: array vector\n",
    "    \"\"\"\n",
    "    \n",
    "    vector = vect\n",
    "    for i in range(power):\n",
    "        vector = np.kron(vector, vect)\n",
    "    \n",
    "    return vector\n",
    "\n",
    "def cost_function_matrix(graph):\n",
    "    \"\"\"\n",
    "    Returns the matrix of the cost function of a \n",
    "    problem graph. Since the computational \n",
    "    \n",
    "    INPUT: \n",
    "    ```graph```- networkx graph\n",
    "    OUPUT: cost function matrix as np array\n",
    "    \"\"\"\n",
    "    edges = list(graph.edges)\n",
    "    n = len(graph.nodes())\n",
    "    \n",
    "    identity = np.array([[1, 0], [0, 1]])\n",
    "    pauli_z = np.array([[1, 0], [0, -1]])\n",
    "    \n",
    "    full_id = np.identity(2**n)\n",
    "    cost = np.zeros((2**n, 2**n))\n",
    "    \n",
    "    for (u,v) in edges:\n",
    "        summands = [identity]*n\n",
    "        summands[u] = pauli_z\n",
    "        summands[v] = pauli_z\n",
    "        \n",
    "        initial = summands[0]\n",
    "        \n",
    "        for matrix in summands[1:]:\n",
    "            initial = np.kron(initial, matrix)\n",
    "            \n",
    "        cost += initial\n",
    "    \n",
    "    return (len(edges)*full_id-cost) //2"
   ]
  },
  {
   "cell_type": "code",
   "execution_count": 117,
   "id": "d37a6272",
   "metadata": {},
   "outputs": [],
   "source": [
    "cost_matrix = np.diag(cost_function_matrix(G))"
   ]
  },
  {
   "cell_type": "markdown",
   "id": "70d096d3",
   "metadata": {},
   "source": [
    "Now we find the variance of the cost function, $\\sigma^2=\\langle C^2\\rangle-\\langle C\\rangle^2$ at the statevector of the optimal solution for $p$=1."
   ]
  },
  {
   "cell_type": "code",
   "execution_count": 118,
   "id": "2e83d2e0",
   "metadata": {},
   "outputs": [
    {
     "name": "stdout",
     "output_type": "stream",
     "text": [
      "Cost variance:  (275.36837601305825+189.28134414753143j)\n"
     ]
    }
   ],
   "source": [
    "print(\"Cost variance: \", np.sum(cost_matrix**2 * sv_opt) - np.sum(cost_matrix * sv_opt)**2)"
   ]
  },
  {
   "cell_type": "markdown",
   "id": "f9d98810",
   "metadata": {},
   "source": [
    "#### d) QAOA with depth $p=2$\n",
    "We find the optimal angles for depth $p=2$ of the max-cut problem for the graph. We again do this by finding the average cost taken over many simulations."
   ]
  },
  {
   "cell_type": "code",
   "execution_count": 55,
   "id": "b0dd4d7e",
   "metadata": {},
   "outputs": [
    {
     "name": "stdout",
     "output_type": "stream",
     "text": [
      "The angles that maximises the expectation value of the cost is given by: \n",
      "β = (1.4238477436512578, 1.9547213327899995), and \n",
      "γ = (1.9201826397735728, 0.8503171993729487).\n"
     ]
    }
   ],
   "source": [
    "expectation = get_expectation(G)\n",
    "\n",
    "res = minimize(expectation, \n",
    "                      [1.0, 1.0, 1.0, 1.0], \n",
    "                      method='COBYLA')\n",
    "print(f\"The angles that maximises the expectation value of the cost is given by: \\n\\\n",
    "\\u03B2 = {res.x[0], res.x[1]}, and \\n\\\n",
    "\\u03B3 = {res.x[2], res.x[3]}.\")"
   ]
  },
  {
   "cell_type": "markdown",
   "id": "eba202da",
   "metadata": {},
   "source": [
    "#### e) QAOA with depth $p=3$ and $p=4$\n",
    "We find the optimal angles for depth $p=3$ of the max-cut problem for the graph. We again do this by finding the average cost taken over many simulations."
   ]
  },
  {
   "cell_type": "code",
   "execution_count": 56,
   "id": "02039535",
   "metadata": {},
   "outputs": [
    {
     "name": "stdout",
     "output_type": "stream",
     "text": [
      "The angles that maximises the expectation value of the cost is given by: \n",
      "β = (0.8539877071588928, 1.1963066593250553, 1.1205081687892262), and \n",
      "γ = (0.9730797805045815, 0.9968661173796155, 0.9399025833770703).\n"
     ]
    }
   ],
   "source": [
    "# p = 3\n",
    "\n",
    "expectation = get_expectation(G)\n",
    "\n",
    "res = minimize(expectation, \n",
    "                      [1.0, 1.0, 1.0, 1.0, 1.0, 1.0], \n",
    "                      method='COBYLA')\n",
    "print(f\"The angles that maximises the expectation value of the cost is given by: \\n\\\n",
    "\\u03B2 = {res.x[0], res.x[1], res.x[2]}, and \\n\\\n",
    "\\u03B3 = {res.x[3], res.x[4], res.x[5]}.\")"
   ]
  },
  {
   "cell_type": "code",
   "execution_count": 57,
   "id": "05c34d58",
   "metadata": {},
   "outputs": [
    {
     "name": "stdout",
     "output_type": "stream",
     "text": [
      "The angles that maximises the expectation value of the cost is given by: \n",
      "β = (1.2171700691764262, 1.4031889531847734, 1.8285284988102155, 1.3147870954861376), and \n",
      "γ = (1.3141626996529918, 0.49901687323132154, 0.7673176123971338, 1.0527210191572551).\n"
     ]
    }
   ],
   "source": [
    "# p = 4\n",
    "\n",
    "expectation = get_expectation(G)\n",
    "\n",
    "res = minimize(expectation, \n",
    "                      [1.0, 1.0, 1.0, 1.0, 1.0, 1.0, 1.0, 1.0], \n",
    "                      method='COBYLA')\n",
    "print(f\"The angles that maximises the expectation value of the cost is given by: \\n\\\n",
    "\\u03B2 = {res.x[0], res.x[1], res.x[2], res.x[3]}, and \\n\\\n",
    "\\u03B3 = {res.x[4], res.x[5], res.x[6], res.x[7]}.\")"
   ]
  },
  {
   "cell_type": "markdown",
   "id": "4d445c25",
   "metadata": {},
   "source": [
    "---"
   ]
  },
  {
   "cell_type": "markdown",
   "id": "3e64ca96",
   "metadata": {},
   "source": [
    "### Analytic expression for $\\langle\\gamma,\\beta|C_{uv}|\\gamma,\\beta\\rangle$ when $p=1$\n",
    "\n",
    "We plot a contour plot of the expression \n",
    "\n",
    "$$\\langle\\gamma,\\beta|C_{uv}|\\gamma,\\beta\\rangle = \\frac{1}{2}+\\frac{1}{4}(\\sin4\\beta\\sin\\gamma)(\\cos^{d_u}\\gamma+\\cos^{d_v}\\gamma)-\\frac{1}{4}(\\sin^22\\beta\\cos^{d_u+d_v-2\\lambda_{uv}}\\gamma)(1-\\cos^{\\lambda_{uv}}2\\gamma)$$\n",
    "\n",
    "where $d_u=deg(u)-1, d_v=deg(v)-1$ and $\\lambda_{uv}$ is the number of triangles in the graph containing an edge $\\langle uv\\rangle$. We calculate the cost function for a graph analytically below:"
   ]
  },
  {
   "cell_type": "code",
   "execution_count": 26,
   "id": "da0e7d84",
   "metadata": {},
   "outputs": [
    {
     "data": {
      "image/png": "[encoded data removed]",
      "text/plain": [
       "<Figure size 432x288 with 2 Axes>"
      ]
     },
     "metadata": {
      "needs_background": "light"
     },
     "output_type": "display_data"
    }
   ],
   "source": [
    "def analytic_cost_function(x, y, d, e, f):\n",
    "    return 0.5+0.25*(np.sin(4*x)*np.sin(y))*(np.cos(y)**d + np.cos(y)**e)- \\\n",
    "           0.25*(np.sin(2*x)**2)*(np.cos(y)**(d+e-2*f))*(1-np.cos(2*y)**f)\n",
    "\n",
    "\n",
    "adj_matrix = nx.to_numpy_array(G)\n",
    "betalist = np.linspace(0, np.pi/2, 100)\n",
    "gammalist = np.linspace(0, np.pi, 100)\n",
    "X, Y = np.meshgrid(betalist, gammalist)\n",
    "Z = 0\n",
    "\n",
    "for (u,v) in G.edges():\n",
    "    du = G.degree[u]-1\n",
    "    dv = G.degree[v]-1\n",
    "    lambda_uv = np.dot(adj_matrix[u], adj_matrix[v]) # number of triangles by \n",
    "                                                     # computing the dot product \n",
    "                                                     # of adjacency matrix columns\n",
    "    \n",
    "    Z += analytic_cost_function(X,Y,du,dv,lambda_uv)\n",
    "    \n",
    "fig,ax=plt.subplots(1,1)\n",
    "cp = ax.contourf(X, Y, Z)\n",
    "fig.colorbar(cp) # Add a colorbar to a plot\n",
    "ax.set_title('Filled Contours Plot')\n",
    "ax.set_xlabel(r'$\\beta$')\n",
    "ax.set_ylabel(r'$\\gamma$')\n",
    "plt.show()"
   ]
  },
  {
   "cell_type": "markdown",
   "id": "ce2be270",
   "metadata": {},
   "source": [
    "#### Checking cost function\n",
    "\n",
    "Code was used from https://qiskit.org/documentation/stable/0.24/locale/de_DE/tutorials/optimization/6_examples_max_cut_and_tsp.html\n",
    "to check"
   ]
  }
 ],
 "metadata": {
  "kernelspec": {
   "display_name": "Python 3 (ipykernel)",
   "language": "python",
   "name": "python3"
  },
  "language_info": {
   "codemirror_mode": {
    "name": "ipython",
    "version": 3
   },
   "file_extension": ".py",
   "mimetype": "text/x-python",
   "name": "python",
   "nbconvert_exporter": "python",
   "pygments_lexer": "ipython3",
   "version": "3.9.7"
  }
 },
 "nbformat": 4,
 "nbformat_minor": 5
}
