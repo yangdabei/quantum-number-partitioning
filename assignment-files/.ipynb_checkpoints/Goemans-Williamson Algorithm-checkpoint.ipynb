{
 "cells": [
  {
   "cell_type": "code",
   "execution_count": 11,
   "id": "7e1e918b",
   "metadata": {},
   "outputs": [],
   "source": [
    "import cvxpy as cp\n",
    "import numpy as np\n",
    "from scipy import linalg"
   ]
  },
  {
   "cell_type": "code",
   "execution_count": 4,
   "id": "de24129e",
   "metadata": {},
   "outputs": [],
   "source": [
    "# edges of given graph\n",
    "edges = [(0,1),\n",
    "        (1,2),\n",
    "        (1,3),\n",
    "        (1,5),\n",
    "        (2,4),\n",
    "        (2,5)]\n",
    "\n",
    "# creates 6x6 symmetric matrix optimisation variable\n",
    "X = cp.Variable((6,6), symmetric=True)\n",
    "\n",
    "# creates constraints on X (positive semidefinite & symmetric)\n",
    "constraints = [X>>0]\n",
    "constraints += [\n",
    "    X[i,i] == 1 for i in range (6)\n",
    "]\n",
    "\n",
    "# algorithm: \n",
    "objective = sum(0.5*(1-X[i,j]) for (i,j) in edges)"
   ]
  },
  {
   "cell_type": "code",
   "execution_count": 6,
   "id": "6fa4f326",
   "metadata": {},
   "outputs": [
    {
     "data": {
      "text/plain": [
       "5.250000797097679"
      ]
     },
     "execution_count": 6,
     "metadata": {},
     "output_type": "execute_result"
    }
   ],
   "source": [
    "prob = cp.Problem(cp.Maximize(objective), constraints)\n",
    "prob.solve()"
   ]
  },
  {
   "cell_type": "code",
   "execution_count": 12,
   "id": "f784a63b",
   "metadata": {},
   "outputs": [],
   "source": [
    "x = linalg.sqrtm(X.value)\n",
    "u = np.random.randn(6)\n",
    "x = np.sign(x @ u)"
   ]
  }
 ],
 "metadata": {
  "kernelspec": {
   "display_name": "Python 3 (ipykernel)",
   "language": "python",
   "name": "python3"
  },
  "language_info": {
   "codemirror_mode": {
    "name": "ipython",
    "version": 3
   },
   "file_extension": ".py",
   "mimetype": "text/x-python",
   "name": "python",
   "nbconvert_exporter": "python",
   "pygments_lexer": "ipython3",
   "version": "3.9.7"
  }
 },
 "nbformat": 4,
 "nbformat_minor": 5
}
