{
 "cells": [
  {
   "cell_type": "code",
   "execution_count": 1,
   "id": "3aac4e10",
   "metadata": {},
   "outputs": [],
   "source": [
    "import numpy as np\n",
    "import pandas as pd\n",
    "\n",
    "import matplotlib.pyplot as plt\n",
    "\n",
    "import ast\n",
    "import random\n",
    "import csv\n",
    "\n",
    "import time\n",
    "\n",
    "import seaborn as sns\n",
    "\n",
    "from solvers import *"
   ]
  },
  {
   "cell_type": "markdown",
   "id": "765a975f",
   "metadata": {},
   "source": [
    "benchmark against GUROBI\n",
    "- XQAOA\n",
    "- greedy\n",
    "- complete greedy\n",
    "- kk\n",
    "- ckk\n",
    "- gw"
   ]
  },
  {
   "cell_type": "code",
   "execution_count": 2,
   "id": "963f0fda",
   "metadata": {},
   "outputs": [],
   "source": [
    "# read in CSV\n",
    "\n",
    "def readCSV(file):\n",
    "    df = pd.read_csv(file)#, sep=',', header=None)\n",
    "    data_columns = [ast.literal_eval(x) for x in list(df.columns)]\n",
    "    array = df.to_numpy()\n",
    "    data = []\n",
    "    for i in range(len(array)):\n",
    "        data.append([])\n",
    "        for j in range(len(array[i])):\n",
    "            data[i].append(ast.literal_eval(array[i][j]))\n",
    "    \n",
    "    return np.array(np.moveaxis(data, 0, 1), dtype='object'), data_columns"
   ]
  },
  {
   "cell_type": "code",
   "execution_count": 3,
   "id": "0cc6eb75",
   "metadata": {},
   "outputs": [
    {
     "name": "stderr",
     "output_type": "stream",
     "text": [
      "/Users/yangd/opt/anaconda3/lib/python3.9/site-packages/numpy/core/_asarray.py:102: VisibleDeprecationWarning: Creating an ndarray from ragged nested sequences (which is a list-or-tuple of lists-or-tuples-or ndarrays with different lengths or shapes) is deprecated. If you meant to do this, you must specify 'dtype=object' when creating the ndarray.\n",
      "  return array(a, dtype, copy=False, order=order)\n"
     ]
    }
   ],
   "source": [
    "fixed_n, n_array = readCSV(\"../simulation_dataset/data_fix_n.csv\")\n",
    "fixed_m, m_array = readCSV(\"../simulation_dataset/data_fix_m.csv\")"
   ]
  },
  {
   "cell_type": "code",
   "execution_count": 6,
   "id": "6c34f4cc",
   "metadata": {
    "scrolled": true
   },
   "outputs": [
    {
     "name": "stdout",
     "output_type": "stream",
     "text": [
      "g\n"
     ]
    },
    {
     "data": {
      "text/plain": [
       "[0.48,\n",
       " 0.64,\n",
       " 0.56,\n",
       " 0.56,\n",
       " 0.6,\n",
       " 0.64,\n",
       " 1.0,\n",
       " 3.24,\n",
       " 5.36,\n",
       " 8.12,\n",
       " 23.64,\n",
       " 38.92,\n",
       " 71.76,\n",
       " 163.32,\n",
       " 263.24,\n",
       " 649.04,\n",
       " 1322.64,\n",
       " 2539.76,\n",
       " 5400.28]"
      ]
     },
     "execution_count": 6,
     "metadata": {},
     "output_type": "execute_result"
    }
   ],
   "source": [
    "problem = fixed_n[0][0]\n",
    "G = problemToGraph(problem)\n",
    "results = set_difference(fixed_n, Gurobi_Solver)\n",
    "avg = []\n",
    "for i in range(len(results)):\n",
    "    avg.append(np.average(results[i]))\n",
    "avg\n",
    "#results"
   ]
  },
  {
   "cell_type": "code",
   "execution_count": null,
   "id": "e81d48c1",
   "metadata": {},
   "outputs": [],
   "source": []
  },
  {
   "cell_type": "code",
   "execution_count": 7,
   "id": "43daa10f",
   "metadata": {},
   "outputs": [
    {
     "name": "stdout",
     "output_type": "stream",
     "text": [
      "dfd\n"
     ]
    },
    {
     "data": {
      "text/plain": [
       "[0.48,\n",
       " 0.8,\n",
       " 1.12,\n",
       " 1.92,\n",
       " 5.88,\n",
       " 6.32,\n",
       " 15.24,\n",
       " 35.96,\n",
       " 63.6,\n",
       " 121.96,\n",
       " 243.24,\n",
       " 670.04,\n",
       " 1484.08,\n",
       " 2796.2,\n",
       " 4088.44,\n",
       " 8322.64,\n",
       " 23467.28,\n",
       " 23564.64,\n",
       " 45670.2]"
      ]
     },
     "execution_count": 7,
     "metadata": {},
     "output_type": "execute_result"
    }
   ],
   "source": [
    "results_greedy = set_difference(fixed_n, greedy)\n",
    "avg_greedy = []\n",
    "for i in range(len(results_greedy)):\n",
    "    avg_greedy.append(np.average(results_greedy[i]))\n",
    "avg_greedy\n"
   ]
  },
  {
   "cell_type": "code",
   "execution_count": 8,
   "id": "bd120cea",
   "metadata": {},
   "outputs": [
    {
     "name": "stdout",
     "output_type": "stream",
     "text": [
      "complete\n"
     ]
    },
    {
     "data": {
      "text/plain": [
       "[0.48,\n",
       " 0.72,\n",
       " 0.64,\n",
       " 1.04,\n",
       " 1.56,\n",
       " 1.76,\n",
       " 3.8,\n",
       " 10.6,\n",
       " 20.56,\n",
       " 44.84,\n",
       " 92.36,\n",
       " 167.88,\n",
       " 459.68,\n",
       " 817.72,\n",
       " 889.48,\n",
       " 3287.92,\n",
       " 6614.64,\n",
       " 7914.48,\n",
       " 17426.84]"
      ]
     },
     "execution_count": 8,
     "metadata": {},
     "output_type": "execute_result"
    }
   ],
   "source": [
    "results_ckk = set_difference(fixed_n, complete_karmarkar_karp)\n",
    "avg_ckk = []\n",
    "for i in range(len(results_ckk)):\n",
    "    avg_ckk.append(np.average(results_ckk[i]))\n",
    "avg_ckk"
   ]
  },
  {
   "cell_type": "code",
   "execution_count": 21,
   "id": "7af824c6",
   "metadata": {},
   "outputs": [
    {
     "name": "stdout",
     "output_type": "stream",
     "text": [
      "0 0 9.0\n",
      "0 1 -2.0\n",
      "0 2 5.0\n",
      "0 3 (4+0j)\n",
      "0 4 -7.0\n",
      "0 5 -1.0\n",
      "0 6 -8.0\n",
      "0 7 9.0\n",
      "0 8 (4+0j)\n",
      "0 9 -3.0\n",
      "0 10 0.0\n",
      "0 11 -3.0\n",
      "0 12 -1.0\n",
      "0 13 8.0\n",
      "0 14 0.0\n",
      "0 15 -5.0\n",
      "0 16 0.0\n",
      "0 17 2.0\n",
      "0 18 (2+0j)\n",
      "0 19 5.0\n",
      "0 20 (-3+0j)\n",
      "0 21 -2.0\n",
      "0 22 -1.0\n",
      "0 23 4.0\n",
      "0 24 -6.0\n",
      "1 0 21.0\n",
      "1 1 (3+0j)\n",
      "1 2 -6.0\n",
      "1 3 (-12+0j)\n",
      "1 4 -2.0\n",
      "1 5 -2.0\n",
      "1 6 4.0\n",
      "1 7 (-13+0j)\n",
      "1 8 3.0\n",
      "1 9 (3+0j)\n",
      "1 10 (7+0j)\n",
      "1 11 -14.0\n",
      "1 12 17.0\n",
      "1 13 (-7+0j)\n",
      "1 14 5.0\n",
      "1 15 -1.0\n",
      "1 16 (-1+0j)\n",
      "1 17 6.0\n",
      "1 18 8.0\n",
      "1 19 (-11+0j)\n",
      "1 20 (-5+0j)\n",
      "1 21 4.0\n",
      "1 22 (1+0j)\n",
      "1 23 5.0\n",
      "1 24 (-3+0j)\n",
      "2 0 -4.0\n",
      "2 1 (2+0j)\n",
      "2 2 (10+0j)\n",
      "2 3 10.0\n",
      "2 4 14.0\n",
      "2 5 23.0\n",
      "2 6 -19.0\n",
      "2 7 5.0\n",
      "2 8 (14+0j)\n",
      "2 9 (28+0j)\n",
      "2 10 (-4+0j)\n",
      "2 11 (7+0j)\n",
      "2 12 (2+0j)\n",
      "2 13 (20+0j)\n",
      "2 14 -23.0\n",
      "2 15 47.0\n",
      "2 16 (4+0j)\n",
      "2 17 (-21+0j)\n",
      "2 18 (9+0j)\n",
      "2 19 (11+0j)\n",
      "2 20 2.0\n",
      "2 21 (-24+0j)\n",
      "2 22 (21+0j)\n",
      "2 23 (33+0j)\n",
      "2 24 (27+0j)\n",
      "3 0 37.0\n",
      "3 1 (27+0j)\n",
      "3 2 (15+0j)\n",
      "3 3 -2.0\n",
      "3 4 (-30+0j)\n",
      "3 5 -11.0\n",
      "3 6 -14.0\n",
      "3 7 -32.0\n",
      "3 8 (20+0j)\n",
      "3 9 20.0\n",
      "3 10 24.0\n",
      "3 11 48.0\n",
      "3 12 -29.0\n",
      "3 13 -59.0\n",
      "3 14 10.0\n",
      "3 15 17.0\n",
      "3 16 (-7+0j)\n",
      "3 17 (-17+0j)\n",
      "3 18 57.0\n",
      "3 19 (51+0j)\n",
      "3 20 -15.0\n",
      "3 21 (16+0j)\n",
      "3 22 -41.0\n",
      "3 23 (71+0j)\n",
      "3 24 (42+0j)\n",
      "4 0 -30.0\n",
      "4 1 25.0\n",
      "4 2 (-168+0j)\n",
      "4 3 78.0\n",
      "4 4 (-22+0j)\n",
      "4 5 -8.0\n",
      "4 6 -133.0\n",
      "4 7 (35+0j)\n",
      "4 8 42.0\n",
      "4 9 (60+0j)\n",
      "4 10 (-87+0j)\n",
      "4 11 141.0\n",
      "4 12 (63+0j)\n",
      "4 13 (-27+0j)\n",
      "4 14 37.0\n",
      "4 15 (-21+0j)\n",
      "4 16 56.0\n",
      "4 17 -42.0\n",
      "4 18 35.0\n",
      "4 19 -41.0\n",
      "4 20 2.0\n",
      "4 21 (-222+0j)\n",
      "4 22 -61.0\n",
      "4 23 (49+0j)\n",
      "4 24 -76.0\n",
      "5 0 64.0\n",
      "5 1 166.0\n",
      "5 2 18.0\n",
      "5 3 (-209+0j)\n",
      "5 4 -141.0\n",
      "5 5 -32.0\n",
      "5 6 100.0\n",
      "5 7 10.0\n",
      "5 8 -188.0\n",
      "5 9 (197+0j)\n",
      "5 10 22.0\n",
      "5 11 153.0\n",
      "5 12 (-17+0j)\n",
      "5 13 (-128+0j)\n",
      "5 14 (-93+0j)\n",
      "5 15 (-212+0j)\n",
      "5 16 (98+0j)\n",
      "5 17 (-45+0j)\n",
      "5 18 165.0\n",
      "5 19 -127.0\n",
      "5 20 -225.0\n",
      "5 21 18.0\n",
      "5 22 -24.0\n",
      "5 23 (47+0j)\n",
      "5 24 (-81+0j)\n",
      "6 0 -307.0\n",
      "6 1 156.0\n",
      "6 2 -56.0\n",
      "6 3 -494.0\n",
      "6 4 (70+0j)\n",
      "6 5 550.0\n",
      "6 6 (-438+0j)\n",
      "6 7 217.0\n",
      "6 8 -459.0\n",
      "6 9 -86.0\n",
      "6 10 (-51+0j)\n",
      "6 11 (145+0j)\n",
      "6 12 170.0\n",
      "6 13 -244.0\n",
      "6 14 (-436+0j)\n",
      "6 15 (-193+0j)\n",
      "6 16 (-74+0j)\n",
      "6 17 -191.0\n",
      "6 18 225.0\n",
      "6 19 -305.0\n",
      "6 20 21.0\n",
      "6 21 36.0\n",
      "6 22 (75+0j)\n",
      "6 23 (297+0j)\n",
      "6 24 (213+0j)\n"
     ]
    },
    {
     "name": "stderr",
     "output_type": "stream",
     "text": [
      "/Users/yangd/opt/anaconda3/lib/python3.9/site-packages/cvxpy/problems/problem.py:1337: UserWarning: Solution may be inaccurate. Try another solver, adjusting the solver settings, or solve with verbose=True for more information.\n",
      "  warnings.warn(\n"
     ]
    },
    {
     "name": "stdout",
     "output_type": "stream",
     "text": [
      "7 0 (-261+0j)\n",
      "7 1 (256+0j)\n",
      "7 2 -156.0\n",
      "7 3 (-495+0j)\n",
      "7 4 -450.0\n",
      "7 5 (2+0j)\n",
      "7 6 (-18+0j)\n",
      "7 7 (-804+0j)\n",
      "7 8 (25+0j)\n",
      "7 9 -495.0\n",
      "7 10 -372.0\n",
      "7 11 571.0\n",
      "7 12 (-1002+0j)\n",
      "7 13 60.0\n",
      "7 14 (116+0j)\n",
      "7 15 (692+0j)\n",
      "7 16 (-226+0j)\n",
      "7 17 (104+0j)\n",
      "7 18 (-706+0j)\n",
      "7 19 (-179+0j)\n",
      "7 20 (774+0j)\n",
      "7 21 (-437+0j)\n",
      "7 22 (423+0j)\n",
      "7 23 (214+0j)\n",
      "7 24 (443+0j)\n",
      "8 0 (1046+0j)\n",
      "8 1 (-167+0j)\n",
      "8 2 (3452+0j)\n",
      "8 3 (-1637+0j)\n",
      "8 4 (643+0j)\n",
      "8 5 (279+0j)\n",
      "8 6 (-663+0j)\n",
      "8 7 (-1525+0j)\n",
      "8 8 (-725+0j)\n",
      "8 9 (81+0j)\n",
      "8 10 (-707+0j)\n",
      "8 11 -680.0\n",
      "8 12 (-84+0j)\n",
      "8 13 (-2084+0j)\n",
      "8 14 (644+0j)\n",
      "8 15 (134+0j)\n",
      "8 16 (441+0j)\n",
      "8 17 (1157+0j)\n",
      "8 18 (964+0j)\n",
      "8 19 (-2162+0j)\n",
      "8 20 (2422+0j)\n",
      "8 21 (509+0j)\n",
      "8 22 (2055+0j)\n",
      "8 23 (-3543+0j)\n",
      "8 24 (62+0j)\n",
      "9 0 (90+0j)\n"
     ]
    },
    {
     "ename": "ValueError",
     "evalue": "object arrays are not supported",
     "output_type": "error",
     "traceback": [
      "\u001b[0;31m---------------------------------------------------------------------------\u001b[0m",
      "\u001b[0;31mValueError\u001b[0m                                Traceback (most recent call last)",
      "\u001b[0;32m/var/folders/0s/1tkft92142z57n4rf76ht57c0000gn/T/ipykernel_24553/3657590930.py\u001b[0m in \u001b[0;36m<module>\u001b[0;34m\u001b[0m\n\u001b[1;32m      2\u001b[0m \u001b[0;32mfor\u001b[0m \u001b[0mi\u001b[0m \u001b[0;32min\u001b[0m \u001b[0mrange\u001b[0m\u001b[0;34m(\u001b[0m\u001b[0mlen\u001b[0m\u001b[0;34m(\u001b[0m\u001b[0mfixed_n\u001b[0m\u001b[0;34m)\u001b[0m\u001b[0;34m)\u001b[0m\u001b[0;34m:\u001b[0m\u001b[0;34m\u001b[0m\u001b[0;34m\u001b[0m\u001b[0m\n\u001b[1;32m      3\u001b[0m     \u001b[0;32mfor\u001b[0m \u001b[0mj\u001b[0m \u001b[0;32min\u001b[0m \u001b[0mrange\u001b[0m\u001b[0;34m(\u001b[0m\u001b[0mlen\u001b[0m\u001b[0;34m(\u001b[0m\u001b[0mfixed_n\u001b[0m\u001b[0;34m[\u001b[0m\u001b[0;36m0\u001b[0m\u001b[0;34m]\u001b[0m\u001b[0;34m)\u001b[0m\u001b[0;34m)\u001b[0m\u001b[0;34m:\u001b[0m\u001b[0;34m\u001b[0m\u001b[0;34m\u001b[0m\u001b[0m\n\u001b[0;32m----> 4\u001b[0;31m         \u001b[0mdifference\u001b[0m \u001b[0;34m=\u001b[0m \u001b[0mGoemans_Williamson\u001b[0m\u001b[0;34m(\u001b[0m\u001b[0mfixed_n\u001b[0m\u001b[0;34m[\u001b[0m\u001b[0mi\u001b[0m\u001b[0;34m]\u001b[0m\u001b[0;34m[\u001b[0m\u001b[0mj\u001b[0m\u001b[0;34m]\u001b[0m\u001b[0;34m)\u001b[0m\u001b[0;34m\u001b[0m\u001b[0;34m\u001b[0m\u001b[0m\n\u001b[0m\u001b[1;32m      5\u001b[0m         \u001b[0mprint\u001b[0m\u001b[0;34m(\u001b[0m\u001b[0mi\u001b[0m\u001b[0;34m,\u001b[0m \u001b[0mj\u001b[0m\u001b[0;34m,\u001b[0m \u001b[0mdifference\u001b[0m\u001b[0;34m)\u001b[0m\u001b[0;34m\u001b[0m\u001b[0;34m\u001b[0m\u001b[0m\n\u001b[1;32m      6\u001b[0m         \u001b[0mdifferences\u001b[0m\u001b[0;34m.\u001b[0m\u001b[0mappend\u001b[0m\u001b[0;34m(\u001b[0m\u001b[0mdifference\u001b[0m\u001b[0;34m)\u001b[0m\u001b[0;34m\u001b[0m\u001b[0;34m\u001b[0m\u001b[0m\n",
      "\u001b[0;32m~/Documents/ANU/ASC/Quantum Computing /number-partitioning/final-report/data/benchmark_data/solvers.py\u001b[0m in \u001b[0;36mGoemans_Williamson\u001b[0;34m(problem)\u001b[0m\n\u001b[1;32m    434\u001b[0m     \u001b[0mprob\u001b[0m\u001b[0;34m.\u001b[0m\u001b[0msolve\u001b[0m\u001b[0;34m(\u001b[0m\u001b[0;34m)\u001b[0m\u001b[0;34m\u001b[0m\u001b[0;34m\u001b[0m\u001b[0m\n\u001b[1;32m    435\u001b[0m \u001b[0;34m\u001b[0m\u001b[0m\n\u001b[0;32m--> 436\u001b[0;31m     \u001b[0mx\u001b[0m \u001b[0;34m=\u001b[0m \u001b[0msqrtm\u001b[0m\u001b[0;34m(\u001b[0m\u001b[0mX\u001b[0m\u001b[0;34m.\u001b[0m\u001b[0mvalue\u001b[0m\u001b[0;34m)\u001b[0m\u001b[0;34m\u001b[0m\u001b[0;34m\u001b[0m\u001b[0m\n\u001b[0m\u001b[1;32m    437\u001b[0m \u001b[0;34m\u001b[0m\u001b[0m\n\u001b[1;32m    438\u001b[0m \u001b[0;34m\u001b[0m\u001b[0m\n",
      "\u001b[0;32m~/opt/anaconda3/lib/python3.9/site-packages/scipy/linalg/_matfuncs_sqrtm.py\u001b[0m in \u001b[0;36msqrtm\u001b[0;34m(A, disp, blocksize)\u001b[0m\n\u001b[1;32m    156\u001b[0m \u001b[0;34m\u001b[0m\u001b[0m\n\u001b[1;32m    157\u001b[0m     \"\"\"\n\u001b[0;32m--> 158\u001b[0;31m     \u001b[0mA\u001b[0m \u001b[0;34m=\u001b[0m \u001b[0m_asarray_validated\u001b[0m\u001b[0;34m(\u001b[0m\u001b[0mA\u001b[0m\u001b[0;34m,\u001b[0m \u001b[0mcheck_finite\u001b[0m\u001b[0;34m=\u001b[0m\u001b[0;32mTrue\u001b[0m\u001b[0;34m,\u001b[0m \u001b[0mas_inexact\u001b[0m\u001b[0;34m=\u001b[0m\u001b[0;32mTrue\u001b[0m\u001b[0;34m)\u001b[0m\u001b[0;34m\u001b[0m\u001b[0;34m\u001b[0m\u001b[0m\n\u001b[0m\u001b[1;32m    159\u001b[0m     \u001b[0;32mif\u001b[0m \u001b[0mlen\u001b[0m\u001b[0;34m(\u001b[0m\u001b[0mA\u001b[0m\u001b[0;34m.\u001b[0m\u001b[0mshape\u001b[0m\u001b[0;34m)\u001b[0m \u001b[0;34m!=\u001b[0m \u001b[0;36m2\u001b[0m\u001b[0;34m:\u001b[0m\u001b[0;34m\u001b[0m\u001b[0;34m\u001b[0m\u001b[0m\n\u001b[1;32m    160\u001b[0m         \u001b[0;32mraise\u001b[0m \u001b[0mValueError\u001b[0m\u001b[0;34m(\u001b[0m\u001b[0;34m\"Non-matrix input to matrix function.\"\u001b[0m\u001b[0;34m)\u001b[0m\u001b[0;34m\u001b[0m\u001b[0;34m\u001b[0m\u001b[0m\n",
      "\u001b[0;32m~/opt/anaconda3/lib/python3.9/site-packages/scipy/_lib/_util.py\u001b[0m in \u001b[0;36m_asarray_validated\u001b[0;34m(a, check_finite, sparse_ok, objects_ok, mask_ok, as_inexact)\u001b[0m\n\u001b[1;32m    294\u001b[0m     \u001b[0;32mif\u001b[0m \u001b[0;32mnot\u001b[0m \u001b[0mobjects_ok\u001b[0m\u001b[0;34m:\u001b[0m\u001b[0;34m\u001b[0m\u001b[0;34m\u001b[0m\u001b[0m\n\u001b[1;32m    295\u001b[0m         \u001b[0;32mif\u001b[0m \u001b[0ma\u001b[0m\u001b[0;34m.\u001b[0m\u001b[0mdtype\u001b[0m \u001b[0;32mis\u001b[0m \u001b[0mnp\u001b[0m\u001b[0;34m.\u001b[0m\u001b[0mdtype\u001b[0m\u001b[0;34m(\u001b[0m\u001b[0;34m'O'\u001b[0m\u001b[0;34m)\u001b[0m\u001b[0;34m:\u001b[0m\u001b[0;34m\u001b[0m\u001b[0;34m\u001b[0m\u001b[0m\n\u001b[0;32m--> 296\u001b[0;31m             \u001b[0;32mraise\u001b[0m \u001b[0mValueError\u001b[0m\u001b[0;34m(\u001b[0m\u001b[0;34m'object arrays are not supported'\u001b[0m\u001b[0;34m)\u001b[0m\u001b[0;34m\u001b[0m\u001b[0;34m\u001b[0m\u001b[0m\n\u001b[0m\u001b[1;32m    297\u001b[0m     \u001b[0;32mif\u001b[0m \u001b[0mas_inexact\u001b[0m\u001b[0;34m:\u001b[0m\u001b[0;34m\u001b[0m\u001b[0;34m\u001b[0m\u001b[0m\n\u001b[1;32m    298\u001b[0m         \u001b[0;32mif\u001b[0m \u001b[0;32mnot\u001b[0m \u001b[0mnp\u001b[0m\u001b[0;34m.\u001b[0m\u001b[0missubdtype\u001b[0m\u001b[0;34m(\u001b[0m\u001b[0ma\u001b[0m\u001b[0;34m.\u001b[0m\u001b[0mdtype\u001b[0m\u001b[0;34m,\u001b[0m \u001b[0mnp\u001b[0m\u001b[0;34m.\u001b[0m\u001b[0minexact\u001b[0m\u001b[0;34m)\u001b[0m\u001b[0;34m:\u001b[0m\u001b[0;34m\u001b[0m\u001b[0;34m\u001b[0m\u001b[0m\n",
      "\u001b[0;31mValueError\u001b[0m: object arrays are not supported"
     ]
    }
   ],
   "source": [
    "differences = []\n",
    "for i in range(len(fixed_n)):\n",
    "    for j in range(len(fixed_n[0])):\n",
    "        difference = Goemans_Williamson(fixed_n[i][j])\n",
    "        print(i, j, difference)\n",
    "        differences.append(difference)"
   ]
  },
  {
   "cell_type": "code",
   "execution_count": null,
   "id": "f7a011fa",
   "metadata": {},
   "outputs": [],
   "source": [
    "for algorithm in [greedy, complete_greedy, karmarkar_karp, complete_karmarkar_karp, XQAOA, Goemans_Williamson]:\n",
    "    diffs = set_difference(fixed_n, algorithm)\n",
    "    for i in range(len(diffs)):\n",
    "        "
   ]
  },
  {
   "cell_type": "code",
   "execution_count": 7,
   "id": "09e968f1",
   "metadata": {},
   "outputs": [
    {
     "name": "stdout",
     "output_type": "stream",
     "text": [
      "Restricted license - for non-production use only - expires 2024-10-28\n"
     ]
    },
    {
     "name": "stderr",
     "output_type": "stream",
     "text": [
      "/var/folders/0s/1tkft92142z57n4rf76ht57c0000gn/T/ipykernel_23996/3163130743.py:1: DeprecationWarning: Deprecated, pass a TempConstr or use Model.addLConstr\n",
      "  Gurobi_Solver([2, 3, 4, 2, 1, 3, 3, 3, 2, 2])\n"
     ]
    },
    {
     "data": {
      "text/plain": [
       "(156.0, array([ 1, -1, -1,  1, -1,  1, -1,  1, -1,  1]), 1)"
      ]
     },
     "execution_count": 7,
     "metadata": {},
     "output_type": "execute_result"
    }
   ],
   "source": [
    "Gurobi_Solver([2, 3, 4, 2, 1, 3, 3, 3, 2, 2])"
   ]
  },
  {
   "cell_type": "code",
   "execution_count": null,
   "id": "c49c9392",
   "metadata": {},
   "outputs": [],
   "source": []
  },
  {
   "cell_type": "code",
   "execution_count": null,
   "id": "7bcafd75",
   "metadata": {},
   "outputs": [],
   "source": []
  },
  {
   "cell_type": "code",
   "execution_count": null,
   "id": "e4c773df",
   "metadata": {},
   "outputs": [],
   "source": []
  },
  {
   "cell_type": "code",
   "execution_count": null,
   "id": "9b6035ac",
   "metadata": {},
   "outputs": [],
   "source": []
  },
  {
   "cell_type": "code",
   "execution_count": null,
   "id": "07a0cd93",
   "metadata": {},
   "outputs": [],
   "source": []
  },
  {
   "cell_type": "code",
   "execution_count": null,
   "id": "1c4f3fc6",
   "metadata": {},
   "outputs": [],
   "source": []
  },
  {
   "cell_type": "code",
   "execution_count": 4,
   "id": "c6108c59",
   "metadata": {},
   "outputs": [],
   "source": [
    "def plot(arr, algorithm):\n",
    "    \n",
    "    results = set_difference(arr, algorithm)\n",
    "    \n",
    "    fig = plt.figure(figsize=(6,6), dpi=150)\n",
    "    \n",
    "    ax = fig.add_subplot(111)\n",
    "    \n",
    "    \n",
    "    #fig.set_figheight(15)\n",
    "    #fig.set_figwidth(15)\n",
    "    \n",
    "    ax.set_title('Basic Plot')\n",
    "    plt.yscale(\"log\")\n",
    "    ax.boxplot(results)"
   ]
  },
  {
   "cell_type": "code",
   "execution_count": 5,
   "id": "5052bf94",
   "metadata": {
    "scrolled": false
   },
   "outputs": [
    {
     "data": {
      "image/png": "[encoded data removed]",
      "text/plain": [
       "<Figure size 900x900 with 1 Axes>"
      ]
     },
     "metadata": {
      "needs_background": "light"
     },
     "output_type": "display_data"
    }
   ],
   "source": [
    "results = set_difference(fixed_n, karmarkar_karp)\n",
    "plot(fixed_n, karmarkar_karp)"
   ]
  },
  {
   "cell_type": "code",
   "execution_count": 6,
   "id": "ec36081e",
   "metadata": {},
   "outputs": [
    {
     "data": {
      "image/png": "[encoded data removed]",
      "text/plain": [
       "<Figure size 432x288 with 1 Axes>"
      ]
     },
     "metadata": {
      "needs_background": "light"
     },
     "output_type": "display_data"
    }
   ],
   "source": [
    "plt.plot(n_array, set_difference(fixed_n, karmarkar_karp))\n",
    "plt.ylabel('some numbers')\n",
    "plt.xlabel('n')\n",
    "#plt.yscale(\"log\")\n",
    "plt.show()"
   ]
  },
  {
   "cell_type": "code",
   "execution_count": 7,
   "id": "cabe6c72",
   "metadata": {},
   "outputs": [
    {
     "name": "stdout",
     "output_type": "stream",
     "text": [
      "Restricted license - for non-production use only - expires 2024-10-28\n"
     ]
    },
    {
     "name": "stderr",
     "output_type": "stream",
     "text": [
      "/var/folders/0s/1tkft92142z57n4rf76ht57c0000gn/T/ipykernel_23317/3876412322.py:2: DeprecationWarning: Deprecated, pass a TempConstr or use Model.addLConstr\n",
      "  Gurobi_Solver(fixed_n[12][0])\n"
     ]
    },
    {
     "data": {
      "text/plain": [
       "(3001396144.0, array([ 1,  1, -1,  1,  1,  1, -1, -1, -1, -1]), 18)"
      ]
     },
     "execution_count": 7,
     "metadata": {},
     "output_type": "execute_result"
    }
   ],
   "source": [
    "G = problemToGraph(fixed_n[12][0])\n",
    "Gurobi_Solver(fixed_n[12][0])"
   ]
  },
  {
   "cell_type": "code",
   "execution_count": 16,
   "id": "a7bd0eb1",
   "metadata": {},
   "outputs": [
    {
     "data": {
      "text/plain": [
       "array([12120, 14796, 16090, 6099, 15555, 6224, 8137, 16016, 13562, 971],\n",
       "      dtype=object)"
      ]
     },
     "execution_count": 16,
     "metadata": {},
     "output_type": "execute_result"
    }
   ],
   "source": [
    "sum(fixed_n[9][0])\n",
    "fixed_n[12][0]"
   ]
  },
  {
   "cell_type": "code",
   "execution_count": 124,
   "id": "5cdb5dfe",
   "metadata": {},
   "outputs": [
    {
     "data": {
      "text/plain": [
       "PartitioningResult(partition=[[8137, 13562, 971, 15555, 16090], [6099, 6224, 12120, 14796, 16016]], sizes=[54315, 55255])"
      ]
     },
     "execution_count": 124,
     "metadata": {},
     "output_type": "execute_result"
    }
   ],
   "source": [
    "karmarkar_karp(fixed_n[12][0])"
   ]
  },
  {
   "cell_type": "code",
   "execution_count": 19,
   "id": "30d33a15",
   "metadata": {},
   "outputs": [],
   "source": [
    "#G, _= problemToGraph([55,67,204,300,2,61,23,44,125,99])\n",
    "#n,m = len(G.nodes), len(G.edges)\n",
    "#n,m"
   ]
  },
  {
   "cell_type": "code",
   "execution_count": 20,
   "id": "c1b45c9f",
   "metadata": {
    "scrolled": false
   },
   "outputs": [],
   "source": [
    "##angles = [5.10260955, 4.32069851, 2.73785665, 3.52415873, 5.10260955, 4.32069851, 2.73785665, 3.52415873, 1.44002752,\n",
    "#       #4.1222408 , 5.94660292, 3.1826297 , 5.04202059, 5.59768978]\n",
    "#angles1 = np.random.uniform(0,2*np.pi,n)\n",
    "#angles2 = np.random.uniform(0,2*np.pi,m)\n",
    "##angles = angles1+ angles2\n",
    "#angles = np.concatenate((angles1,angles2))\n",
    "#angles\n",
    "##XQAOA(angles, G)\n",
    "\n"
   ]
  },
  {
   "cell_type": "code",
   "execution_count": 22,
   "id": "6a4a99af",
   "metadata": {},
   "outputs": [],
   "source": []
  },
  {
   "cell_type": "code",
   "execution_count": 24,
   "id": "01224068",
   "metadata": {},
   "outputs": [],
   "source": [
    "def XY(graph, samples = 20):\n",
    "    \n",
    "    n = len(graph.nodes)\n",
    "    m = len(graph.edges)\n",
    "    costs = []\n",
    "    for i in range(samples):\n",
    "        angles = np.random.uniform(0, 2*np.pi, n+m)\n",
    "        res = opt.minimize(XYMixer, \n",
    "                           angles, \n",
    "                           graph, \n",
    "                           options={\"maxiter\":1000}, method = 'COBYLA')\n",
    "        reduced = reduce_angles(res.x, graph)\n",
    "        #propped = propagate_gammas(reduced, G)\n",
    "        #print(XYMixer(propped, G))\n",
    "        #costs.append(XYMixer(propped, G))\n",
    "        costs.append(XYMixer(reduced, graph))\n",
    "    average = np.average(costs)\n",
    "    std = np.std(costs)\n",
    "    return costs, average, std"
   ]
  },
  {
   "cell_type": "code",
   "execution_count": 25,
   "id": "98071838",
   "metadata": {},
   "outputs": [],
   "source": [
    "def get_average_set_difference_XQAOA(arr):\n",
    "    \n",
    "    \"\"\"\n",
    "    INPUT: \n",
    "    --- arr: array of partition problems\n",
    "    --- algorithm: desired method to use from numberpartitioning package\n",
    "        - greedy\n",
    "        - karmarkar_karp\n",
    "        - complete_karmarkar_karp\n",
    "    OUTPUT: array of average differences between two partitions\n",
    "    \n",
    "    \"\"\"\n",
    "    \n",
    "    \n",
    "    results = []\n",
    "    for i in range(len(arr)):\n",
    "        for j in range(len(arr[0])):\n",
    "        # iterates through different values of n/m\n",
    "\n",
    "            G, _ = problemToGraph(arr[i][j])\n",
    "            #print(arr[i])\n",
    "            _, avg, _ = XY(G)\n",
    "            print(avg)\n",
    "            results.append(avg)\n",
    "        \n",
    "    return results"
   ]
  },
  {
   "cell_type": "code",
   "execution_count": 20,
   "id": "2206405b",
   "metadata": {},
   "outputs": [
    {
     "name": "stderr",
     "output_type": "stream",
     "text": [
      "/var/folders/0s/1tkft92142z57n4rf76ht57c0000gn/T/ipykernel_23317/2921280131.py:4: DeprecationWarning: Deprecated, pass a TempConstr or use Model.addLConstr\n",
      "  Gurobi_Solver(problem)\n"
     ]
    },
    {
     "data": {
      "text/plain": [
       "(855625.0, array([ 1, -1,  1, -1,  1, -1, -1,  1, -1,  1, -1, -1,  1, -1]), 0)"
      ]
     },
     "execution_count": 20,
     "metadata": {},
     "output_type": "execute_result"
    }
   ],
   "source": [
    "problem = fixed_m[-3][6]\n",
    "problem\n",
    "G = problemToGraph(problem)\n",
    "Gurobi_Solver(problem)"
   ]
  },
  {
   "cell_type": "code",
   "execution_count": 10,
   "id": "24a8194d",
   "metadata": {},
   "outputs": [
    {
     "ename": "NameError",
     "evalue": "name 'get_average_set_difference_XQAOA' is not defined",
     "output_type": "error",
     "traceback": [
      "\u001b[0;31m---------------------------------------------------------------------------\u001b[0m",
      "\u001b[0;31mNameError\u001b[0m                                 Traceback (most recent call last)",
      "\u001b[0;32m/var/folders/0s/1tkft92142z57n4rf76ht57c0000gn/T/ipykernel_23317/4197307348.py\u001b[0m in \u001b[0;36m<module>\u001b[0;34m\u001b[0m\n\u001b[1;32m      1\u001b[0m \u001b[0mstart_time\u001b[0m \u001b[0;34m=\u001b[0m \u001b[0mtime\u001b[0m\u001b[0;34m.\u001b[0m\u001b[0mtime\u001b[0m\u001b[0;34m(\u001b[0m\u001b[0;34m)\u001b[0m\u001b[0;34m\u001b[0m\u001b[0;34m\u001b[0m\u001b[0m\n\u001b[0;32m----> 2\u001b[0;31m \u001b[0mresult\u001b[0m \u001b[0;34m=\u001b[0m \u001b[0mget_average_set_difference_XQAOA\u001b[0m\u001b[0;34m(\u001b[0m\u001b[0mfixed_n\u001b[0m\u001b[0;34m)\u001b[0m\u001b[0;34m\u001b[0m\u001b[0;34m\u001b[0m\u001b[0m\n\u001b[0m\u001b[1;32m      3\u001b[0m \u001b[0mprint\u001b[0m\u001b[0;34m(\u001b[0m\u001b[0;34m\"--- %s seconds ---\"\u001b[0m \u001b[0;34m%\u001b[0m \u001b[0;34m(\u001b[0m\u001b[0mtime\u001b[0m\u001b[0;34m.\u001b[0m\u001b[0mtime\u001b[0m\u001b[0;34m(\u001b[0m\u001b[0;34m)\u001b[0m \u001b[0;34m-\u001b[0m \u001b[0mstart_time\u001b[0m\u001b[0;34m)\u001b[0m\u001b[0;34m)\u001b[0m\u001b[0;34m\u001b[0m\u001b[0;34m\u001b[0m\u001b[0m\n\u001b[1;32m      4\u001b[0m \u001b[0mresult\u001b[0m\u001b[0;34m\u001b[0m\u001b[0;34m\u001b[0m\u001b[0m\n",
      "\u001b[0;31mNameError\u001b[0m: name 'get_average_set_difference_XQAOA' is not defined"
     ]
    }
   ],
   "source": [
    "start_time = time.time()\n",
    "result = get_average_set_difference_XQAOA(fixed_n)\n",
    "print(\"--- %s seconds ---\" % (time.time() - start_time))\n",
    "result"
   ]
  },
  {
   "cell_type": "code",
   "execution_count": 34,
   "id": "f2e8f864",
   "metadata": {},
   "outputs": [
    {
     "name": "stdout",
     "output_type": "stream",
     "text": [
      "--- 101.1759979724884 seconds ---\n"
     ]
    }
   ],
   "source": [
    "start_time = time.time()\n",
    "problem = [3, 2, 4, 1, 4, 1, 1, 3, 3, 1]\n",
    "G, _ = problemToGraph(problem)\n",
    "_, avg, _ = XY(G)\n",
    "print(\"--- %s seconds ---\" % (time.time() - start_time))"
   ]
  },
  {
   "cell_type": "code",
   "execution_count": 35,
   "id": "b22b8946",
   "metadata": {},
   "outputs": [
    {
     "data": {
      "text/plain": [
       "1.0"
      ]
     },
     "execution_count": 35,
     "metadata": {},
     "output_type": "execute_result"
    }
   ],
   "source": [
    "avg"
   ]
  },
  {
   "cell_type": "code",
   "execution_count": 37,
   "id": "d87b8c23",
   "metadata": {},
   "outputs": [
    {
     "data": {
      "text/plain": [
       "PartitioningResult(partition=[[2, 4, 3, 1, 1], [3, 4, 3, 1, 1]], sizes=[11, 12])"
      ]
     },
     "execution_count": 37,
     "metadata": {},
     "output_type": "execute_result"
    }
   ],
   "source": [
    "karmarkar_karp(problem)"
   ]
  },
  {
   "cell_type": "code",
   "execution_count": 38,
   "id": "56f43a0c",
   "metadata": {},
   "outputs": [
    {
     "name": "stdout",
     "output_type": "stream",
     "text": [
      "--- 54.78756594657898 seconds ---\n"
     ]
    }
   ],
   "source": [
    "start_time = time.time()\n",
    "problem = fixed_n[-1][0]\n",
    "G, _ = problemToGraph(problem)\n",
    "_, avg, _ = XY(G)\n",
    "print(\"--- %s seconds ---\" % (time.time() - start_time))"
   ]
  },
  {
   "cell_type": "code",
   "execution_count": 39,
   "id": "8d95f867",
   "metadata": {},
   "outputs": [
    {
     "data": {
      "text/plain": [
       "array([152945, 313695,  69916, 674353, 619164, 887564, 258839,  56927,\n",
       "       756851, 637299])"
      ]
     },
     "execution_count": 39,
     "metadata": {},
     "output_type": "execute_result"
    }
   ],
   "source": [
    "problem"
   ]
  },
  {
   "cell_type": "code",
   "execution_count": null,
   "id": "abf068b8",
   "metadata": {},
   "outputs": [],
   "source": []
  }
 ],
 "metadata": {
  "kernelspec": {
   "display_name": "Python 3 (ipykernel)",
   "language": "python",
   "name": "python3"
  },
  "language_info": {
   "codemirror_mode": {
    "name": "ipython",
    "version": 3
   },
   "file_extension": ".py",
   "mimetype": "text/x-python",
   "name": "python",
   "nbconvert_exporter": "python",
   "pygments_lexer": "ipython3",
   "version": "3.9.7"
  }
 },
 "nbformat": 4,
 "nbformat_minor": 5
}
