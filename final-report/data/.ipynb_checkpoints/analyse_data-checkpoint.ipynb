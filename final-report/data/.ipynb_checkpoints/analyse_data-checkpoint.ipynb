{
 "cells": [
  {
   "cell_type": "code",
   "execution_count": 1,
   "id": "3aac4e10",
   "metadata": {},
   "outputs": [],
   "source": [
    "import numpy as np\n",
    "import matplotlib as plt\n",
    "import networkx as nx\n",
    "\n",
    "import gurobipy as gp\n",
    "from gurobipy import GRB\n",
    "\n",
    "import cvxpy as cp\n",
    "#from typing import Tuple\n",
    "\n",
    "import csv\n",
    "import numberpartitioning"
   ]
  },
  {
   "cell_type": "code",
   "execution_count": null,
   "id": "963f0fda",
   "metadata": {},
   "outputs": [],
   "source": [
    "# read in CSV"
   ]
  },
  {
   "cell_type": "code",
   "execution_count": 2,
   "id": "dae80df8",
   "metadata": {},
   "outputs": [],
   "source": [
    "# rewriting number partitioning problem as graph\n",
    "\n",
    "def problemToGraph(array):\n",
    "    n = len(array)\n",
    "    G = nx.Graph()\n",
    "    dict_node_vals = {}\n",
    "    \n",
    "    for i in range(n):\n",
    "        G.add_node(i)\n",
    "        dict_node_vals[i] = array[i]\n",
    "        nx.set_node_attributes(G, dict_node_vals, \"values\")\n",
    "        \n",
    "    # weight of edge between two nodes is product of those nodes\n",
    "    G.add_weighted_edges_from([(u,v,dict_node_vals[u]*dict_node_vals[v]) for u,v in nx.complete_graph(n).edges()])\n",
    "    \n",
    "    return G, dict_node_vals"
   ]
  },
  {
   "cell_type": "code",
   "execution_count": 3,
   "id": "57a5ea99",
   "metadata": {},
   "outputs": [
    {
     "ename": "NameError",
     "evalue": "name 'problem' is not defined",
     "output_type": "error",
     "traceback": [
      "\u001b[0;31m---------------------------------------------------------------------------\u001b[0m",
      "\u001b[0;31mNameError\u001b[0m                                 Traceback (most recent call last)",
      "\u001b[0;32m/var/folders/0s/1tkft92142z57n4rf76ht57c0000gn/T/ipykernel_34238/3883444539.py\u001b[0m in \u001b[0;36m<module>\u001b[0;34m\u001b[0m\n\u001b[0;32m----> 1\u001b[0;31m \u001b[0mG\u001b[0m\u001b[0;34m,\u001b[0m \u001b[0mlabels\u001b[0m \u001b[0;34m=\u001b[0m \u001b[0mproblemToGraph\u001b[0m\u001b[0;34m(\u001b[0m\u001b[0mproblem\u001b[0m\u001b[0;34m)\u001b[0m\u001b[0;34m\u001b[0m\u001b[0;34m\u001b[0m\u001b[0m\n\u001b[0m\u001b[1;32m      2\u001b[0m \u001b[0;31m#nx.draw(G, labels = labels, with_labels=True)\u001b[0m\u001b[0;34m\u001b[0m\u001b[0;34m\u001b[0m\u001b[0m\n",
      "\u001b[0;31mNameError\u001b[0m: name 'problem' is not defined"
     ]
    }
   ],
   "source": [
    "G, labels = problemToGraph(problem)\n",
    "#nx.draw(G, labels = labels, with_labels=True)"
   ]
  },
  {
   "cell_type": "code",
   "execution_count": null,
   "id": "eb776861",
   "metadata": {},
   "outputs": [],
   "source": [
    "# uncomment below to visualise graph if graph is not too large\n",
    "\n",
    "#pos = nx.spring_layout(G)\n",
    "#nx.draw_networkx_nodes(G, pos, node_size=700)\n",
    "#nx.draw_networkx_labels(G, pos, font_size=20, font_family=\"sans-serif\")\n",
    "#\n",
    "#nx.draw_networkx_edges(G, pos, width=6)\n",
    "#\n",
    "#edge_labels = nx.get_edge_attributes(G, \"weight\")\n",
    "#nx.draw_networkx_edge_labels(G, pos, edge_labels)\n",
    "#\n",
    "#ax = plt.gca()\n",
    "#ax.margins(0.08)\n",
    "#plt.axis(\"off\")\n",
    "#plt.tight_layout()\n",
    "#plt.show()"
   ]
  },
  {
   "cell_type": "code",
   "execution_count": null,
   "id": "d5c98071",
   "metadata": {},
   "outputs": [],
   "source": [
    "result = numberpartitioning.karmarkar_karp(problem)\n",
    "result"
   ]
  }
 ],
 "metadata": {
  "kernelspec": {
   "display_name": "Python 3 (ipykernel)",
   "language": "python",
   "name": "python3"
  },
  "language_info": {
   "codemirror_mode": {
    "name": "ipython",
    "version": 3
   },
   "file_extension": ".py",
   "mimetype": "text/x-python",
   "name": "python",
   "nbconvert_exporter": "python",
   "pygments_lexer": "ipython3",
   "version": "3.9.7"
  }
 },
 "nbformat": 4,
 "nbformat_minor": 5
}
